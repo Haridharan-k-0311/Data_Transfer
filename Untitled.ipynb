{
 "cells": [
  {
   "cell_type": "code",
   "execution_count": null,
   "id": "58f0b67c",
   "metadata": {},
   "outputs": [],
   "source": [
    "import numpy as np"
   ]
  },
  {
   "cell_type": "raw",
   "id": "44ed1276",
   "metadata": {},
   "source": [
    "import numpy\n",
    "def arrays(arr):\n",
    "    b = numpy.array(arr,float)\n",
    "    li=[]\n",
    "    for i in range(len(b),0,-1):\n",
    "        li.append(b[i-1])\n",
    "    bc=numpy.array(li,float)\n",
    "    return bc\n",
    "\n",
    "arr = input().strip().split(' ')\n",
    "result = arrays(arr)\n",
    "print(result)"
   ]
  },
  {
   "cell_type": "raw",
   "id": "cc53294d",
   "metadata": {},
   "source": [
    "\n",
    "\n",
    "def arrays(arr):\n",
    "    # Convert the input list to a numpy array of floats\n",
    "    b = np.array(arr, dtype=float)\n",
    "    # Reverse the array using numpy's slicing\n",
    "    return b[::-1]\n",
    "\n",
    "# Read input, split into a list of strings, and pass to the function\n",
    "arr = input().strip().split()\n",
    "result = arrays(arr)\n",
    "print(result)"
   ]
  },
  {
   "cell_type": "raw",
   "id": "215de7f3",
   "metadata": {},
   "source": [
    "import numpy\n",
    "def arrays(arr):\n",
    "    li=[]\n",
    "    for i in range(0,len(arr),3):\n",
    "        li.append([int(a) for a in arr[i:i+3]])\n",
    "    ac=numpy.array(li)\n",
    "    return ac     \n",
    "\n",
    "arr = input().strip().split(' ')\n",
    "result = arrays(arr)\n",
    "print(result)"
   ]
  },
  {
   "cell_type": "raw",
   "id": "ab94f4b8",
   "metadata": {},
   "source": [
    "import numpy as np\n",
    "\n",
    "def arrays(arr):\n",
    "    # Convert the list of strings to a numpy array of integers\n",
    "    arr = np.array(arr, dtype=int)\n",
    "    \n",
    "    # Reshape the array to have 3 columns (assuming the length of arr is a multiple of 3)\n",
    "    # The number of rows will be determined automatically\n",
    "    reshaped_arr = arr.reshape(-1, 3)\n",
    "    \n",
    "    return reshaped_arr\n",
    "\n",
    "# Read input, split by spaces, and convert to list of strings\n",
    "arr = input().strip().split()\n",
    "\n",
    "# Call the optimized function and print the result\n",
    "result = arrays(arr)\n",
    "print(result)"
   ]
  }
 ],
 "metadata": {
  "kernelspec": {
   "display_name": "Python 3 (ipykernel)",
   "language": "python",
   "name": "python3"
  },
  "language_info": {
   "codemirror_mode": {
    "name": "ipython",
    "version": 3
   },
   "file_extension": ".py",
   "mimetype": "text/x-python",
   "name": "python",
   "nbconvert_exporter": "python",
   "pygments_lexer": "ipython3",
   "version": "3.9.7"
  }
 },
 "nbformat": 4,
 "nbformat_minor": 5
}
