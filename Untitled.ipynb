{
 "cells": [
  {
   "cell_type": "markdown",
   "id": "e5d59091-80ec-47c2-b3ac-09710173f9fb",
   "metadata": {},
   "source": [
    "### Importing and Checking version"
   ]
  },
  {
   "cell_type": "code",
   "execution_count": 2,
   "id": "6fb37b88-41c8-4cb2-812b-72c1336bd67d",
   "metadata": {},
   "outputs": [],
   "source": [
    "import pandas as pd"
   ]
  },
  {
   "cell_type": "code",
   "execution_count": 8,
   "id": "dbaf5416-c9ce-436c-8df4-e35e1ea118bc",
   "metadata": {},
   "outputs": [
    {
     "data": {
      "text/plain": [
       "'2.2.3'"
      ]
     },
     "execution_count": 8,
     "metadata": {},
     "output_type": "execute_result"
    }
   ],
   "source": [
    "pd.__version__"
   ]
  },
  {
   "cell_type": "markdown",
   "id": "d96d0fe1-eda7-4163-9b7c-3a15b1493af9",
   "metadata": {},
   "source": [
    "### Create dataframe in Python"
   ]
  },
  {
   "cell_type": "code",
   "execution_count": 15,
   "id": "e3cca4b2-3f29-46dc-acf9-2e43bf24e364",
   "metadata": {},
   "outputs": [],
   "source": [
    "data = {\n",
    "    'Student_name' : ['Harish', 'Ganesh', 'Afshal', 'Mahi', 'Shiyam'],\n",
    "    'Register_number' : ['122012012857', '122012012853', '122012012862', '122012012833', '122012012820'],\n",
    "    'Subject_1' : [70, 78, 76, 70, 61],\n",
    "    'Subject_2' : [83, 89, 48, 92, 78],\n",
    "    'Subject_3' : [94, 86, 98, 69, 59],\n",
    "    'Subject_4' : [73, 74, 81, 85, 94],\n",
    "    'Subject_5' : [67, 63, 93, 93, 70],\n",
    "    'Total' : [387, 390, 396, 389,373]\n",
    "}kkk "
   ]
  },
  {
   "cell_type": "code",
   "execution_count": 21,
   "id": "adb67983-2b16-4fbc-a2ac-2afdde3df607",
   "metadata": {},
   "outputs": [],
   "source": [
    "dataframe = pd.DataFrame(data, columns = ['Student_name', 'Register_number', 'Subject_1', 'Subject_2', 'Subject_3', 'Subject_4', 'Subject_5','Total'])"
   ]
  },
  {
   "cell_type": "code",
   "execution_count": 23,
   "id": "457acb9d-2b3a-4334-9896-0a9a48c6ffb9",
   "metadata": {},
   "outputs": [
    {
     "data": {
      "text/html": [
       "<div>\n",
       "<style scoped>\n",
       "    .dataframe tbody tr th:only-of-type {\n",
       "        vertical-align: middle;\n",
       "    }\n",
       "\n",
       "    .dataframe tbody tr th {\n",
       "        vertical-align: top;\n",
       "    }\n",
       "\n",
       "    .dataframe thead th {\n",
       "        text-align: right;\n",
       "    }\n",
       "</style>\n",
       "<table border=\"1\" class=\"dataframe\">\n",
       "  <thead>\n",
       "    <tr style=\"text-align: right;\">\n",
       "      <th></th>\n",
       "      <th>Student_name</th>\n",
       "      <th>Register_number</th>\n",
       "      <th>Subject_1</th>\n",
       "      <th>Subject_2</th>\n",
       "      <th>Subject_3</th>\n",
       "      <th>Subject_4</th>\n",
       "      <th>Subject_5</th>\n",
       "      <th>Total</th>\n",
       "    </tr>\n",
       "  </thead>\n",
       "  <tbody>\n",
       "    <tr>\n",
       "      <th>0</th>\n",
       "      <td>Harish</td>\n",
       "      <td>122012012857</td>\n",
       "      <td>70</td>\n",
       "      <td>83</td>\n",
       "      <td>94</td>\n",
       "      <td>73</td>\n",
       "      <td>67</td>\n",
       "      <td>387</td>\n",
       "    </tr>\n",
       "    <tr>\n",
       "      <th>1</th>\n",
       "      <td>Ganesh</td>\n",
       "      <td>122012012853</td>\n",
       "      <td>78</td>\n",
       "      <td>89</td>\n",
       "      <td>86</td>\n",
       "      <td>74</td>\n",
       "      <td>63</td>\n",
       "      <td>390</td>\n",
       "    </tr>\n",
       "    <tr>\n",
       "      <th>2</th>\n",
       "      <td>Afshal</td>\n",
       "      <td>122012012862</td>\n",
       "      <td>76</td>\n",
       "      <td>48</td>\n",
       "      <td>98</td>\n",
       "      <td>81</td>\n",
       "      <td>93</td>\n",
       "      <td>396</td>\n",
       "    </tr>\n",
       "    <tr>\n",
       "      <th>3</th>\n",
       "      <td>Mahi</td>\n",
       "      <td>122012012833</td>\n",
       "      <td>70</td>\n",
       "      <td>92</td>\n",
       "      <td>69</td>\n",
       "      <td>85</td>\n",
       "      <td>93</td>\n",
       "      <td>389</td>\n",
       "    </tr>\n",
       "    <tr>\n",
       "      <th>4</th>\n",
       "      <td>Shiyam</td>\n",
       "      <td>122012012820</td>\n",
       "      <td>61</td>\n",
       "      <td>78</td>\n",
       "      <td>59</td>\n",
       "      <td>94</td>\n",
       "      <td>70</td>\n",
       "      <td>373</td>\n",
       "    </tr>\n",
       "  </tbody>\n",
       "</table>\n",
       "</div>"
      ],
      "text/plain": [
       "  Student_name Register_number  Subject_1  Subject_2  Subject_3  Subject_4  \\\n",
       "0       Harish    122012012857         70         83         94         73   \n",
       "1       Ganesh    122012012853         78         89         86         74   \n",
       "2       Afshal    122012012862         76         48         98         81   \n",
       "3         Mahi    122012012833         70         92         69         85   \n",
       "4       Shiyam    122012012820         61         78         59         94   \n",
       "\n",
       "   Subject_5  Total  \n",
       "0         67    387  \n",
       "1         63    390  \n",
       "2         93    396  \n",
       "3         93    389  \n",
       "4         70    373  "
      ]
     },
     "execution_count": 23,
     "metadata": {},
     "output_type": "execute_result"
    }
   ],
   "source": [
    "dataframe"
   ]
  },
  {
   "cell_type": "code",
   "execution_count": null,
   "id": "2e3c82f3-0034-4b20-8f0d-99dc0e71e758",
   "metadata": {},
   "outputs": [],
   "source": []
  }
 ],
 "metadata": {
  "kernelspec": {
   "display_name": "Python 3 (ipykernel)",
   "language": "python",
   "name": "python3"
  },
  "language_info": {
   "codemirror_mode": {
    "name": "ipython",
    "version": 3
   },
   "file_extension": ".py",
   "mimetype": "text/x-python",
   "name": "python",
   "nbconvert_exporter": "python",
   "pygments_lexer": "ipython3",
   "version": "3.12.4"
  }
 },
 "nbformat": 4,
 "nbformat_minor": 5
}
