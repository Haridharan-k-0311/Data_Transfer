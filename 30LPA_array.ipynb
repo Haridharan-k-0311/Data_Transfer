{
 "cells": [
  {
   "cell_type": "markdown",
   "id": "a899f435-1ffa-4599-9ad3-38001b0506b5",
   "metadata": {},
   "source": [
    "Find the largest number in array"
   ]
  },
  {
   "cell_type": "code",
   "execution_count": null,
   "id": "d579caa1-fd86-4c49-87fc-b04f18eaa8ba",
   "metadata": {},
   "outputs": [],
   "source": [
    "from array import *\n",
    "arr=array('i',[0,-1,-3,3,6,78,34,69,87,22,12,74,34])\n",
    "max_arr=max(arr)\n",
    "max_arr"
   ]
  },
  {
   "cell_type": "markdown",
   "id": "e382b212-861c-46c0-8b0c-f5131aea16ed",
   "metadata": {},
   "source": [
    "2rd method"
   ]
  },
  {
   "cell_type": "code",
   "execution_count": null,
   "id": "25dd47e5-2f25-4ff3-82ee-45a9a41f1f15",
   "metadata": {},
   "outputs": [],
   "source": [
    "from array import *\n",
    "arr=array('i',[0,-1,-3,3,6,78,34,69,87,22,12,74,34])\n",
    "max_val = float('-inf')\n",
    "for item in arr:\n",
    "    if item > max_val:\n",
    "        max_val = item\n",
    "print(max_val)"
   ]
  },
  {
   "cell_type": "code",
   "execution_count": null,
   "id": "fd3920e1-01ff-4c99-b029-29a9cef5e56c",
   "metadata": {},
   "outputs": [],
   "source": []
  },
  {
   "cell_type": "markdown",
   "id": "8acda636-975e-4b57-b171-f35ecea588f3",
   "metadata": {},
   "source": [
    "Find the 2rd largest number in array "
   ]
  },
  {
   "cell_type": "code",
   "execution_count": null,
   "id": "a2899ddc-21d4-472b-b490-3d3dd4171eb5",
   "metadata": {},
   "outputs": [],
   "source": [
    "from array import *\n",
    "arr=array('i',[0,-1,-3,3,6,78,34,69,87,22,12,74,74,34,74,34])\n",
    "s_arr=set(arr)\n",
    "sa_arr=sorted(s_arr,reverse=True)\n",
    "# third largest number\n",
    "if len(sa_arr) > 3:\n",
    "    print(sa_arr[2])\n",
    "else: \n",
    "    print(f'Array has less than {len(sa_arr)} numbers')"
   ]
  },
  {
   "cell_type": "markdown",
   "id": "64aec79c-48c3-4a02-bba3-42d5a8361456",
   "metadata": {},
   "source": [
    "2rd method"
   ]
  },
  {
   "cell_type": "code",
   "execution_count": 4,
   "id": "56ee2ba0-50dc-4e56-a616-e0661ae81fef",
   "metadata": {},
   "outputs": [
    {
     "name": "stdout",
     "output_type": "stream",
     "text": [
      "array('i', [87, 78, 74, 69, 34, 22, 12, 6, 3, 0, -1, -3])\n"
     ]
    }
   ],
   "source": [
    "from array import *\n",
    "arr=array('i',[0,-1,-3,3,6,78,34,69,87,22,12,74,74,34,74,34])\n",
    "\n",
    "for i in range(len(arr)):\n",
    "    for j in range(len(arr)-i-1):\n",
    "        if arr[j] < arr[j+1]:\n",
    "            arr[j],arr[j+1] = arr[j+1],arr[j]\n",
    "\n",
    "unique_arr = array('i')\n",
    "unique_arr.append(sorted_arr[0])\n",
    "\n",
    "for i in range(1, len(sorted_arr)):\n",
    "    if sorted_arr[i] != sorted_arr[i - 1]:\n",
    "        unique_arr.append(sorted_arr[i])\n",
    "print(unique_arr)"
   ]
  },
  {
   "cell_type": "raw",
   "id": "72124682-bdf5-4933-85a0-a23b467153a4",
   "metadata": {},
   "source": [
    "from array import array\n",
    "\n",
    "# Initial array\n",
    "arr = array('i', [0, -1, -3, 3, 6, 78, 34, 69, 87, 22, 12, 74, 74, 34, 74, 34])\n",
    "\n",
    "# Function to perform Bubble Sort in descending order\n",
    "def bubble_sort_desc(arr):\n",
    "    n = len(arr)\n",
    "    for i in range(n):\n",
    "        for j in range(0, n-i-1):\n",
    "            # Swap if the element found is less than the next element\n",
    "            if arr[j] < arr[j+1]:\n",
    "                arr[j], arr[j+1] = arr[j+1], arr[j]\n",
    "    return arr\n",
    "\n",
    "# Perform Bubble Sort\n",
    "sorted_arr = bubble_sort_desc(arr)\n",
    "\n",
    "# Print the sorted array\n",
    "print(\"Sorted array in descending order:\", list(sorted_arr))\n"
   ]
  },
  {
   "cell_type": "raw",
   "id": "3028caab-f481-4646-941a-6e53e250e4ff",
   "metadata": {},
   "source": [
    "from array import array\n",
    "\n",
    "# Create the original array\n",
    "arr = array('i', [0, -1, -3, 3, 6, 78, 34, 69, 87, 22, 12, 74, 74, 34, 74, 34])\n",
    "\n",
    "# Create an empty array for unique elements\n",
    "unique_arr = array('i')\n",
    "\n",
    "# Iterate through each element in the original array\n",
    "for i in range(len(arr)):\n",
    "    # Assume the element at index i is not a duplicate\n",
    "    is_duplicate = False\n",
    "    \n",
    "    # Check if this element has appeared before\n",
    "    for j in range(i):\n",
    "        if arr[j] == arr[i]:\n",
    "            is_duplicate = True\n",
    "            break\n",
    "    \n",
    "    # If it's not a duplicate, add it to the unique array\n",
    "    if not is_duplicate:\n",
    "        unique_arr.append(arr[i])\n",
    "\n",
    "# Print the result\n",
    "print(unique_arr)\n"
   ]
  },
  {
   "cell_type": "raw",
   "id": "baf538f9-8b10-4ad6-a336-2c0222b9b7b8",
   "metadata": {},
   "source": [
    "from array import array\n",
    "\n",
    "# Function to perform bubble sort\n",
    "def bubble_sort(arr):\n",
    "    n = len(arr)\n",
    "    for i in range(n):\n",
    "        for j in range(0, n - i - 1):\n",
    "            if arr[j] > arr[j + 1]:\n",
    "                arr[j], arr[j + 1] = arr[j + 1], arr[j]\n",
    "\n",
    "# Function to remove duplicates from a sorted array\n",
    "def remove_duplicates(sorted_arr):\n",
    "    if len(sorted_arr) == 0:\n",
    "        return sorted_arr\n",
    "\n",
    "    # Create an array to store unique elements\n",
    "    unique_arr = array('i')\n",
    "\n",
    "    # Add the first element to the unique array\n",
    "    unique_arr.append(sorted_arr[0])\n",
    "\n",
    "    # Iterate through the sorted array and add unique elements\n",
    "    for i in range(1, len(sorted_arr)):\n",
    "        if sorted_arr[i] != sorted_arr[i - 1]:\n",
    "            unique_arr.append(sorted_arr[i])\n",
    "\n",
    "    return unique_arr\n",
    "\n",
    "# Create the original array\n",
    "arr = array('i', [0, -1, -3, 3, 6, 78, 34, 69, 87, , 22, , 22 ,122, 12, 74, 74, 34, 74, 34])\n",
    "\n",
    "# Perform bubble sort\n",
    "bubble_sort(arr)\n",
    "\n",
    "# Remove duplicates\n",
    "unique_arr = remove_duplicates(arr)\n",
    "\n",
    "# Print the result\n",
    "print(\"Sorted and unique array:\", unique_arr)"
   ]
  },
  {
   "cell_type": "markdown",
   "id": "d40ebd95-eb21-4934-8584-66cb9fa68a0a",
   "metadata": {},
   "source": [
    "3rd method"
   ]
  },
  {
   "cell_type": "code",
   "execution_count": null,
   "id": "91c7dc66-1238-464d-b045-33b805ba8720",
   "metadata": {},
   "outputs": [],
   "source": [
    "from array import array\n",
    "\n",
    "def find_third_largest(arr):\n",
    "    first = second = third = float('-inf')\n",
    "    for num in arr:\n",
    "        if num == first or num == second or num == third:\n",
    "            continue    \n",
    "        if num > first:\n",
    "            third = second\n",
    "            second = first\n",
    "            first = num\n",
    "        elif num > second:\n",
    "            third = second\n",
    "            second = num\n",
    "        elif num > third:\n",
    "            third = num\n",
    "    if third == float('-inf'):\n",
    "        return None\n",
    "    return third\n",
    "# arr = array('i', [0,-1,0,-1,0,-1,0,-1,-1,0])\n",
    "# arr = array('i', [0, -1, -3, 3, 6, 78, 34, 69, 87, 22, 12, 74, 74, 34, 74, 34])\n",
    "print(find_third_largest(arr))"
   ]
  },
  {
   "cell_type": "code",
   "execution_count": null,
   "id": "92bd9ace-a1f9-494d-beb3-71aaa4523666",
   "metadata": {},
   "outputs": [],
   "source": [
    "from array import *\n",
    "arr = array('i', [0,-1,0,-1,0,-1,0,-1,-1,0])\n",
    "s_arr=set(arr)\n",
    "a_arr=array('i',s_arr)\n",
    "sa_arr=sorted(a_arr,reverse=True)\n",
    "# third largest number\n",
    "if len(sa_arr) > 3:\n",
    "    print(sa_arr[2])\n",
    "else: \n",
    "    print('Array has less than 3 numbers')"
   ]
  },
  {
   "cell_type": "code",
   "execution_count": null,
   "id": "d10084d9-123c-499a-8e41-4411c3e4a471",
   "metadata": {
    "jp-MarkdownHeadingCollapsed": true
   },
   "outputs": [],
   "source": [
    "## from array import *\n",
    "arr = array('i', [0, -1, -3, 3, 6, 78, 34, 69, 87, 122, 12, 74, 74, 34, 74, 34])\n",
    "s_arr=set(arr)\n",
    "a_arr=array('i',s_arr)\n",
    "sa_arr=sorted(a_arr,reverse=True)\n",
    "# Nth largest number\n",
    "N=int(input('Nth Largest Number:'))\n",
    "if len(sa_arr) > N:\n",
    "    print(sa_arr[N-1])\n",
    "else: \n",
    "    print(f'Array has less than {N} numbers')"
   ]
  },
  {
   "cell_type": "code",
   "execution_count": null,
   "id": "eb9a0b9d-b4fc-4a65-a64c-ee58baa88616",
   "metadata": {},
   "outputs": [],
   "source": []
  },
  {
   "cell_type": "code",
   "execution_count": 10,
   "id": "46e695b7-f63b-4bef-8a57-7b751c44145b",
   "metadata": {},
   "outputs": [],
   "source": [
    "subject1_marks = [85, 90, 78, 92, 88, 76, 95, 89, 84, 91, 87, 80, 83, 94, 77, 82, 85, 90, 78, 92, 88, 76, 95, 89, 84, 91, 87, 80, 83, 94]\n",
    "subject2_marks = [78, 85, 90, 88, 76, 92, 89, 84, 91, 87, 80, 83, 94, 77, 82, 85, 90, 78, 92, 88, 76, 95, 89, 84, 91, 87, 80, 83, 94, 77]\n",
    "subject3_marks = [92, 88, 76, 95, 89, 84, 91, 87, 80, 83, 94, 77, 82, 85, 90, 78, 92, 88, 76, 95, 89, 84, 91, 87, 80, 83, 94, 77, 82, 85]\n",
    "subject4_marks = [85, 90, 78, 92, 88, 76, 95, 89, 84, 91, 87, 80, 83, 94, 77, 82, 85, 90, 78, 92, 88, 76, 95, 89, 84, 91, 87, 80, 83, 94]\n",
    "subject5_marks = [78, 85, 90, 88, 76, 92, 89, 84, 91, 87, 80, 83, 94, 77, 82, 85, 90, 78, 92, 88, 76, 95, 89, 84, 91, 87, 80, 83, 94, 77]\n",
    "tot_marks = []\n",
    "\n",
    "for i in range(len(subject1_marks)):\n",
    "    tot_marks.append(subject1_marks[i]+subject2_marks[i]+subject3_marks[i]+subject4_marks[i]+subject5_marks[i])"
   ]
  },
  {
   "cell_type": "code",
   "execution_count": null,
   "id": "265b4e47-bef3-46d6-8917-8b14fe26cb86",
   "metadata": {},
   "outputs": [],
   "source": [
    "N=int(input('No.Of.Students :'))\n",
    "for i in range(N):\n",
    "    "
   ]
  },
  {
   "cell_type": "code",
   "execution_count": null,
   "id": "bf81fe2c-815c-439e-b402-f01cbe77d425",
   "metadata": {},
   "outputs": [],
   "source": [
    "def get_valid_input(index, subject):\n",
    "    while True:\n",
    "        try:\n",
    "            # Prompt the user for input\n",
    "            score = int(input(f\"Enter the marks for student {index + 1} in subject {subject}: \"))\n",
    "            # Check if the input is within the valid range\n",
    "            if 0 <= score <= 100:\n",
    "                return score\n",
    "            else:\n",
    "                print(\"Error: Marks should be between 0 and 100. Please try again.\")\n",
    "        except ValueError:\n",
    "            print(\"Error: Invalid input. Please enter a number.\")\n",
    "\n",
    "def collect_marks(num_students, num_subjects):\n",
    "    marks = [[] for _ in range(num_subjects)]\n",
    "    \n",
    "    for subject in range(num_subjects):\n",
    "        print(f\"\\nEntering marks for Subject {subject + 1}:\")\n",
    "        for student in range(num_students):\n",
    "            mark = get_valid_input(student, subject + 1)\n",
    "            marks[subject].append(mark)\n",
    "    \n",
    "    return marks\n",
    "\n",
    "# Number of students and subjects\n",
    "num_students = 30\n",
    "num_subjects = 5\n",
    "\n",
    "# Collect marks\n",
    "subject_marks = collect_marks(num_students, num_subjects)\n",
    "\n",
    "# Display the collected marks for verification\n",
    "for subject in range(num_subjects):\n",
    "    print(f\"\\nMarks for Subject {subject + 1}:\")\n",
    "    print(subject_marks[subject])"
   ]
  }
 ],
 "metadata": {
  "kernelspec": {
   "display_name": "Python 3 (ipykernel)",
   "language": "python",
   "name": "python3"
  },
  "language_info": {
   "codemirror_mode": {
    "name": "ipython",
    "version": 3
   },
   "file_extension": ".py",
   "mimetype": "text/x-python",
   "name": "python",
   "nbconvert_exporter": "python",
   "pygments_lexer": "ipython3",
   "version": "3.11.7"
  }
 },
 "nbformat": 4,
 "nbformat_minor": 5
}
