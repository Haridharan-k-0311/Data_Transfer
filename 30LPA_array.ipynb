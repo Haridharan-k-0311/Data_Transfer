{
 "cells": [
  {
   "cell_type": "code",
   "execution_count": null,
   "id": "60ad6b7b-9f18-4284-ba8c-18d81ecb5bf0",
   "metadata": {},
   "outputs": [],
   "source": []
  },
  {
   "cell_type": "markdown",
   "id": "a899f435-1ffa-4599-9ad3-38001b0506b5",
   "metadata": {},
   "source": [
    "# Find the largest number in array"
   ]
  },
  {
   "cell_type": "code",
   "execution_count": null,
   "id": "d579caa1-fd86-4c49-87fc-b04f18eaa8ba",
   "metadata": {},
   "outputs": [],
   "source": [
    "from array import *\n",
    "arr=array('i',[0,-1,-3,3,6,78,34,69,87,22,12,74,34])\n",
    "max_arr=max(arr)\n",
    "max_arr"
   ]
  },
  {
   "cell_type": "markdown",
   "id": "e382b212-861c-46c0-8b0c-f5131aea16ed",
   "metadata": {},
   "source": [
    "### 2rd method"
   ]
  },
  {
   "cell_type": "code",
   "execution_count": null,
   "id": "25dd47e5-2f25-4ff3-82ee-45a9a41f1f15",
   "metadata": {},
   "outputs": [],
   "source": [
    "from array import *\n",
    "arr=array('i',[0,-1,-3,3,6,78,34,69,87,22,12,74,34])\n",
    "max_val = float('-inf')\n",
    "for item in arr:\n",
    "    if item > max_val:\n",
    "        max_val = item\n",
    "print(max_val)"
   ]
  },
  {
   "cell_type": "markdown",
   "id": "8acda636-975e-4b57-b171-f35ecea588f3",
   "metadata": {},
   "source": [
    "# Find the 2rd largest number in array "
   ]
  },
  {
   "cell_type": "code",
   "execution_count": null,
   "id": "a2899ddc-21d4-472b-b490-3d3dd4171eb5",
   "metadata": {},
   "outputs": [],
   "source": [
    "from array import *\n",
    "arr=array('i',[0,-1,-3,3,6,78,34,69,87,22,12,74,74,34,74,34])\n",
    "s_arr=set(arr)\n",
    "sa_arr=sorted(s_arr,reverse=True)\n",
    "# third largest number\n",
    "if len(sa_arr) > 3:\n",
    "    print(sa_arr[2])\n",
    "else: \n",
    "    print(f'Array has less than {len(sa_arr)} numbers')"
   ]
  },
  {
   "cell_type": "markdown",
   "id": "64aec79c-48c3-4a02-bba3-42d5a8361456",
   "metadata": {},
   "source": [
    "### 2rd method"
   ]
  },
  {
   "cell_type": "code",
   "execution_count": null,
   "id": "56ee2ba0-50dc-4e56-a616-e0661ae81fef",
   "metadata": {},
   "outputs": [],
   "source": [
    "from array import *\n",
    "arr=array('i',[0,-1,-3,3,6,78,34,69,87,22,12,74,74,34,74,34])\n",
    "\n",
    "for i in range(len(arr)):\n",
    "    swapper=False\n",
    "    for j in range(len(arr)-i-1):\n",
    "        if arr[j] < arr[j+1]:\n",
    "            arr[j],arr[j+1] = arr[j+1],arr[j]\n",
    "            swapper=True\n",
    "    if not swapper:\n",
    "        break\n",
    "\n",
    "unique_arr = array('i')\n",
    "unique_arr.append(arr[0])\n",
    "\n",
    "for i in range(1, len(arr)):\n",
    "    if arr[i] != arr[i - 1]:\n",
    "        unique_arr.append(arr[i])\n",
    "print(unique_arr)\n",
    "\n",
    "# third largest number\n",
    "if len(unique_arr) > 3:\n",
    "    print(unique_arr[2])\n",
    "else: \n",
    "    print(f'Array has less only {len(unique_arr)} elements')"
   ]
  },
  {
   "cell_type": "markdown",
   "id": "d40ebd95-eb21-4934-8584-66cb9fa68a0a",
   "metadata": {},
   "source": [
    "### 3rd method"
   ]
  },
  {
   "cell_type": "code",
   "execution_count": null,
   "id": "91c7dc66-1238-464d-b045-33b805ba8720",
   "metadata": {},
   "outputs": [],
   "source": [
    "from array import array\n",
    "\n",
    "def find_third_largest(arr):\n",
    "    first = second = third = float('-inf')\n",
    "    for num in arr:\n",
    "        if num == first or num == second or num == third:\n",
    "            continue    \n",
    "        if num > first:\n",
    "            third = second\n",
    "            second = first\n",
    "            first = num\n",
    "        elif num > second:\n",
    "            third = second\n",
    "            second = num\n",
    "        elif num > third:\n",
    "            third = num\n",
    "    if third == float('-inf'):\n",
    "        return None\n",
    "    return third\n",
    "arr1 = array('i', [0,-1,0,-1,0,-1,0,-1,-1,0])\n",
    "arr2 = array('i', [0, -1, -3, 3, 6, 78, 34, 69, 87, 22, 12, 74, 74, 34, 74, 34])\n",
    "print(find_third_largest(arr1))\n",
    "print(find_third_largest(arr2))"
   ]
  },
  {
   "cell_type": "code",
   "execution_count": null,
   "id": "9ed3d70e-2fc9-48e7-831d-86c5ee2917fd",
   "metadata": {},
   "outputs": [],
   "source": []
  },
  {
   "cell_type": "markdown",
   "id": "6f7018cf-c38f-4189-9604-da2236d403cb",
   "metadata": {},
   "source": [
    "# Find the Nth largest Number"
   ]
  },
  {
   "cell_type": "code",
   "execution_count": null,
   "id": "d10084d9-123c-499a-8e41-4411c3e4a471",
   "metadata": {
    "jp-MarkdownHeadingCollapsed": true
   },
   "outputs": [],
   "source": [
    "from array import *\n",
    "arr = array('i', [0, -1, -3, 3, 6, 78, 34, 69, 87, 122, 12, 74, 74, 34, 74, 34])\n",
    "s_arr=set(arr)\n",
    "a_arr=array('i',s_arr)\n",
    "sa_arr=sorted(a_arr,reverse=True)\n",
    "# Nth largest number\n",
    "N=int(input('Nth Largest Number:'))\n",
    "if len(sa_arr) > N:\n",
    "    print(sa_arr[N-1])\n",
    "else: \n",
    "    print(f'Array has less than {N} numbers')"
   ]
  },
  {
   "cell_type": "markdown",
   "id": "80412496-1f80-4c95-94bc-24170a609e81",
   "metadata": {},
   "source": [
    "### 2nd Method"
   ]
  },
  {
   "cell_type": "code",
   "execution_count": null,
   "id": "41d1f42d-daf0-4482-a55e-bde3b0a44d98",
   "metadata": {},
   "outputs": [],
   "source": [
    "from array import *\n",
    "arr=array('i',[0,-1,-3,3,6,78,34,69,87,22,12,74,74,34,74,34])\n",
    "\n",
    "for i in range(len(arr)):\n",
    "    swapper=False\n",
    "    for j in range(len(arr)-i-1):\n",
    "        if arr[j] < arr[j+1]:\n",
    "            arr[j],arr[j+1] = arr[j+1],arr[j]\n",
    "            swapper=True\n",
    "    if not swapper:\n",
    "        break\n",
    "\n",
    "unique_arr = array('i')\n",
    "unique_arr.append(arr[0])\n",
    "\n",
    "for i in range(1, len(arr)):\n",
    "    if arr[i] != arr[i - 1]:\n",
    "        unique_arr.append(arr[i])\n",
    "print(unique_arr)\n",
    "\n",
    "# Nth largest number\n",
    "N=int(input())\n",
    "if len(unique_arr) > N:\n",
    "    print(unique_arr[N-1])\n",
    "else: \n",
    "    print(f'Array has less only {len(unique_arr)} elements')"
   ]
  },
  {
   "cell_type": "code",
   "execution_count": null,
   "id": "51a10a8d-3b81-41a6-ad4c-9c4bbf8ac1f0",
   "metadata": {},
   "outputs": [],
   "source": []
  },
  {
   "cell_type": "markdown",
   "id": "61efc565-326a-4d05-884b-67c7569fed03",
   "metadata": {},
   "source": [
    "# you need to get/read students mark for five subjects  Minimum of five students.  Find how many students scored marks between 450 to 500 and how many scored between 400 to 450."
   ]
  },
  {
   "cell_type": "markdown",
   "id": "4d32c02f-5e39-4307-bfd6-4a755d1b721a",
   "metadata": {},
   "source": [
    "### Test this method using SampleData(5-Subjects, 30-Students) in 5 Arrays DataType"
   ]
  },
  {
   "cell_type": "code",
   "execution_count": null,
   "id": "46e695b7-f63b-4bef-8a57-7b751c44145b",
   "metadata": {},
   "outputs": [],
   "source": [
    "from array import *\n",
    "subject1_marks = array('i',[85, 90, 78, 92, 88, 76, 95, 89, 84, 91, 87, 80, 83, 94, 77, 82, 85, 90, 78, 92, 88, 76, 95, 89, 84, 91, 87, 80, 83, 94])\n",
    "subject2_marks = array('i',[78, 85, 90, 88, 76, 92, 89, 84, 91, 87, 80, 83, 94, 77, 82, 85, 90, 78, 92, 88, 76, 95, 89, 84, 91, 87, 80, 83, 94, 77])\n",
    "subject3_marks = array('i',[92, 88, 76, 95, 89, 84, 91, 87, 80, 83, 94, 77, 82, 85, 90, 78, 92, 88, 76, 95, 89, 84, 91, 87, 80, 83, 94, 77, 82, 85])\n",
    "subject4_marks = array('i',[85, 90, 78, 92, 88, 76, 95, 89, 84, 91, 87, 80, 83, 94, 77, 82, 85, 90, 78, 92, 88, 76, 95, 89, 84, 91, 87, 80, 83, 94])\n",
    "subject5_marks = array('i',[78, 85, 90, 88, 76, 92, 89, 84, 91, 87, 80, 83, 94, 77, 82, 85, 90, 78, 92, 88, 76, 95, 89, 84, 91, 87, 80, 83, 94, 77])\n",
    "tot_marks = array('i')\n",
    "\n",
    "for i in range(len(subject1_marks)):\n",
    "    tot_marks.append(subject1_marks[i]+subject2_marks[i]+subject3_marks[i]+subject4_marks[i]+subject5_marks[i])\n",
    "\n",
    "for i in range(len(tot_marks)):\n",
    "    swapper=False\n",
    "    for j in range(len(tot_marks)-i-1):\n",
    "        if tot_marks[j] < tot_marks[j+1]:\n",
    "            tot_marks[j], tot_marks[j+1] = tot_marks[j+1], tot_marks[j]\n",
    "            swapper=True\n",
    "    if not swapper:\n",
    "        break\n",
    "\n",
    "first_rank=0\n",
    "second_rank=0\n",
    "for a in tot_marks:\n",
    "    if 450 <= a <= 500:\n",
    "        first_rank+=1\n",
    "    elif 400 <= a <= 450:\n",
    "        second_rank+=1\n",
    "print(f'No.Of.Students scored marks between 450 to 500 = {first_rank}')\n",
    "print(f'No.Of.Students scored marks between 400 to 450 = {second_rank}')"
   ]
  },
  {
   "cell_type": "markdown",
   "id": "98b8ce27-2a0a-4e53-a323-917920ab861c",
   "metadata": {},
   "source": [
    "## Test this method using SampleData(5-Subjects, 30-Students) in Dictionary DataType"
   ]
  },
  {
   "cell_type": "code",
   "execution_count": null,
   "id": "c88a6985-1dce-4b0c-99f7-47c00ba8b1c3",
   "metadata": {},
   "outputs": [],
   "source": [
    "sampleSubjectsMark={\n",
    "    'subject_1' : [85, 90, 78, 92, 88, 76, 95, 89, 84, 91, 87, 80, 83, 94, 77, 82, 85, 90, 78, 92, 88, 76, 95, 89, 84, 91, 87, 80, 83, 94],\n",
    "    'subject_2' : [78, 85, 90, 88, 76, 92, 89, 84, 91, 87, 80, 83, 94, 77, 82, 85, 90, 78, 92, 88, 76, 95, 89, 84, 91, 87, 80, 83, 94, 77],\n",
    "    'subject_3' : [92, 88, 76, 95, 89, 84, 91, 87, 80, 83, 94, 77, 82, 85, 90, 78, 92, 88, 76, 95, 89, 84, 91, 87, 80, 83, 94, 77, 82, 85],\n",
    "    'subject_4' : [85, 90, 78, 92, 88, 76, 95, 89, 84, 91, 87, 80, 83, 94, 77, 82, 85, 90, 78, 92, 88, 76, 95, 89, 84, 91, 87, 80, 83, 94],\n",
    "    'subject_5' : [78, 85, 90, 88, 76, 92, 89, 84, 91, 87, 80, 83, 94, 77, 82, 85, 90, 78, 92, 88, 76, 95, 89, 84, 91, 87, 80, 83, 94, 77]\n",
    "}\n",
    "\n",
    "tot_marks=[]\n",
    "for i in range(len(sampleSubjectsMark['subject_1'])):\n",
    "    tot_marks.append(sampleSubjectsMark['subject_1'][i]+sampleSubjectsMark['subject_2'][i]+sampleSubjectsMark['subject_3'][i]+sampleSubjectsMark['subject_4'][i]+sampleSubjectsMark['subject_5'][i])\n",
    "\n",
    "for i in range(len(tot_marks)):\n",
    "    swapper=False\n",
    "    for j in range(len(tot_marks)-i-1):\n",
    "        if tot_marks[j] < tot_marks[j+1]:\n",
    "            tot_marks[j], tot_marks[j+1] = tot_marks[j+1], tot_marks[j]\n",
    "            swapper=True\n",
    "    if not swapper:\n",
    "        break\n",
    "\n",
    "first_rank=0\n",
    "second_rank=0\n",
    "for a in tot_marks:\n",
    "    if 450 <= a <= 500:\n",
    "        first_rank+=1\n",
    "    elif 400 <= a <= 450:\n",
    "        second_rank+=1\n",
    "print(f'No.Of.Students scored marks between 450 to 500 = {first_rank}')\n",
    "print(f'No.Of.Students scored marks between 400 to 450 = {second_rank}')"
   ]
  },
  {
   "cell_type": "markdown",
   "id": "f70e07f7-fcfa-476d-8926-84f13008df9d",
   "metadata": {},
   "source": [
    "### Get Input by User"
   ]
  },
  {
   "cell_type": "code",
   "execution_count": null,
   "id": "265b4e47-bef3-46d6-8917-8b14fe26cb86",
   "metadata": {},
   "outputs": [],
   "source": [
    "num_students=int(input('No.Of.Students :'))\n",
    "num_subjects=int(input('No.Of.Subjects :'))\n",
    "subjects_mark={}\n",
    "\n",
    "def get_valid_input(index,i):\n",
    "    while True:\n",
    "        try:\n",
    "            score = int(input(f\"Enter the marks for student {index + 1} in subject {i+1}: \"))\n",
    "            if 0 < score <= 100:\n",
    "                return score\n",
    "            else:\n",
    "                print(\"Error: Marks should be between 0 and 100. Please try again.\")\n",
    "        except ValueError:\n",
    "            print(\"Error: Invalid input. Please enter a number.\")\n",
    "\n",
    "def collect_marks(num_student,i):\n",
    "    sub_mark=[]\n",
    "    print(f'\\nEntering marks for Subject {i+1} :')\n",
    "    for student in range(num_student):\n",
    "        mark = get_valid_input(student,i)\n",
    "        sub_mark.append(mark)\n",
    "    return sub_mark\n",
    "\n",
    "for i in range(num_subjects):\n",
    "    subjects_mark[f'subject_{i+1}']=collect_marks(num_students,i)\n",
    "\n",
    "print(subjects_mark)"
   ]
  },
  {
   "cell_type": "markdown",
   "id": "f4da7476-b405-48f0-8462-825050ce24ef",
   "metadata": {},
   "source": [
    "### Sample Data to Test Program"
   ]
  },
  {
   "cell_type": "code",
   "execution_count": 1,
   "id": "cdf6e74b-15bd-4b56-8401-b57d63bad123",
   "metadata": {},
   "outputs": [],
   "source": [
    "num_students=30\n",
    "num_subjects=5\n",
    "subjects_mark={\n",
    "    'subject_1' : [85, 90, 78, 92, 88, 76, 95, 89, 84, 91, 87, 80, 83, 94, 77, 82, 85, 90, 78, 92, 88, 76, 95, 89, 84, 91, 87, 80, 83, 94],\n",
    "    'subject_2' : [78, 85, 90, 88, 76, 92, 89, 84, 91, 87, 80, 83, 94, 77, 82, 85, 90, 78, 92, 88, 76, 95, 89, 84, 91, 87, 80, 83, 94, 77],\n",
    "    'subject_3' : [92, 88, 76, 95, 89, 84, 91, 87, 80, 83, 94, 77, 82, 85, 90, 78, 92, 88, 76, 95, 89, 84, 91, 87, 80, 83, 94, 77, 82, 85],\n",
    "    'subject_4' : [85, 90, 78, 92, 88, 76, 95, 89, 84, 91, 87, 80, 83, 94, 77, 82, 85, 90, 78, 92, 88, 76, 95, 89, 84, 91, 87, 80, 83, 94],\n",
    "    'subject_5' : [78, 85, 90, 88, 76, 92, 89, 84, 91, 87, 80, 83, 94, 77, 82, 85, 90, 78, 92, 88, 76, 95, 89, 84, 91, 87, 80, 83, 94, 77]\n",
    "}"
   ]
  },
  {
   "cell_type": "markdown",
   "id": "09a2ee58-c3e7-4f6c-8a68-b705b1d3f735",
   "metadata": {},
   "source": [
    "### Find total marks for no_of_Students for no_of_Subjects "
   ]
  },
  {
   "cell_type": "code",
   "execution_count": 2,
   "id": "13a3b59d-acc4-4dda-97a9-8712aa1099c5",
   "metadata": {},
   "outputs": [
    {
     "name": "stdout",
     "output_type": "stream",
     "text": [
      "[418, 438, 412, 455, 417, 420, 459, 433, 430, 439, 428, 403, 436, 427, 408, 412, 442, 424, 416, 455, 417, 426, 459, 433, 430, 439, 428, 403, 436, 427]\n"
     ]
    }
   ],
   "source": [
    "# Initialize a list to store total marks for each student\n",
    "total_marks = [0] * num_students\n",
    "\n",
    "# Sum up the marks for each student across all subjects\n",
    "for subject_marks in subjects_mark.values():\n",
    "    for student_index in range(num_students):\n",
    "        total_marks[student_index] += subject_marks[student_index]\n",
    "\n",
    "print(total_marks)"
   ]
  },
  {
   "cell_type": "markdown",
   "id": "0acf2343-5f39-4299-835a-9fd030191023",
   "metadata": {},
   "source": [
    "### Based on no_of_Students and no_of_Subjects, Find Top 10 Students "
   ]
  },
  {
   "cell_type": "code",
   "execution_count": 3,
   "id": "a30aa99c-cec0-4d19-8dfa-2810f5e05351",
   "metadata": {},
   "outputs": [
    {
     "name": "stdout",
     "output_type": "stream",
     "text": [
      "[459, 459, 455, 455, 442, 439, 439, 438, 436, 436, 433, 433, 430, 430, 428, 428, 427, 427, 426, 424, 420, 418, 417, 417, 416, 412, 412, 408, 403, 403]\n"
     ]
    }
   ],
   "source": [
    "for i in range(len(total_marks)):\n",
    "    swapper=False\n",
    "    for j in range(len(total_marks)-i-1):\n",
    "        if total_marks[j] < total_marks[j+1]:\n",
    "            total_marks[j], total_marks[j+1] = total_marks[j+1], total_marks[j]\n",
    "            swapper=True\n",
    "    if not swapper:\n",
    "        break\n",
    "        \n",
    "print(total_marks)"
   ]
  },
  {
   "cell_type": "markdown",
   "id": "77015922-1457-46ed-9485-0368f3236f45",
   "metadata": {},
   "source": [
    "### Based on no_of_Students and no_of_Subjects, Find top above 90% and 80%"
   ]
  },
  {
   "cell_type": "code",
   "execution_count": 6,
   "id": "800bca23-708e-4708-8284-c37f06f07611",
   "metadata": {},
   "outputs": [
    {
     "name": "stdout",
     "output_type": "stream",
     "text": [
      "No.Of.Students scored marks above 95% = 4\n",
      "No.Of.Students scored marks between 90% and 95% = 0\n"
     ]
    }
   ],
   "source": [
    "first_rank=0\n",
    "second_rank=0\n",
    "for stu_mark in total_marks:\n",
    "    if 90 <= stu_mark//num_subjects <= 100:\n",
    "        first_rank+=1\n",
    "    elif 80 <= stu_mark//num_sub < 90:\n",
    "        second_rank+=1\n",
    "print(f'No.Of.Students scored marks above 95% = {first_rank}')\n",
    "print(f'No.Of.Students scored marks between 90% and 95% = {second_rank}')"
   ]
  },
  {
   "cell_type": "markdown",
   "id": "01b6721a-68d3-4869-9a6f-3bb9f395a8ba",
   "metadata": {},
   "source": [
    "### Based on no_of_Students and no_of_Subjects, Find the Top N Students got High Marks"
   ]
  },
  {
   "cell_type": "code",
   "execution_count": null,
   "id": "f75563d5-e338-4688-b138-6fc57e79aea3",
   "metadata": {},
   "outputs": [],
   "source": [
    "N=int(input('Top N students got High marks :'))\n",
    "\n",
    "for i in range(N):\n",
    "    print(total_marks[i])"
   ]
  },
  {
   "cell_type": "code",
   "execution_count": null,
   "id": "d1002b29-4dad-43d9-bfd0-8bbd4a237198",
   "metadata": {},
   "outputs": [],
   "source": []
  }
 ],
 "metadata": {
  "kernelspec": {
   "display_name": "Python 3 (ipykernel)",
   "language": "python",
   "name": "python3"
  },
  "language_info": {
   "codemirror_mode": {
    "name": "ipython",
    "version": 3
   },
   "file_extension": ".py",
   "mimetype": "text/x-python",
   "name": "python",
   "nbconvert_exporter": "python",
   "pygments_lexer": "ipython3",
   "version": "3.11.7"
  }
 },
 "nbformat": 4,
 "nbformat_minor": 5
}
