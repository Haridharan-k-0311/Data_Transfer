{
 "cells": [
  {
   "cell_type": "code",
   "execution_count": null,
   "id": "60ad6b7b-9f18-4284-ba8c-18d81ecb5bf0",
   "metadata": {},
   "outputs": [],
   "source": []
  },
  {
   "cell_type": "markdown",
   "id": "a899f435-1ffa-4599-9ad3-38001b0506b5",
   "metadata": {},
   "source": [
    "# Find the largest number in array"
   ]
  },
  {
   "cell_type": "code",
   "execution_count": null,
   "id": "d579caa1-fd86-4c49-87fc-b04f18eaa8ba",
   "metadata": {},
   "outputs": [],
   "source": [
    "from array import *\n",
    "arr=array('i',[0,-1,-3,3,6,78,34,69,87,22,12,74,34])\n",
    "max_arr=max(arr)\n",
    "max_arr"
   ]
  },
  {
   "cell_type": "markdown",
   "id": "e382b212-861c-46c0-8b0c-f5131aea16ed",
   "metadata": {},
   "source": [
    "### 2rd method"
   ]
  },
  {
   "cell_type": "code",
   "execution_count": null,
   "id": "25dd47e5-2f25-4ff3-82ee-45a9a41f1f15",
   "metadata": {},
   "outputs": [],
   "source": [
    "from array import *\n",
    "arr=array('i',[0,-1,-3,3,6,78,34,69,87,22,12,74,34])\n",
    "max_val = float('-inf')\n",
    "for item in arr:\n",
    "    if item > max_val:\n",
    "        max_val = item\n",
    "print(max_val)"
   ]
  },
  {
   "cell_type": "markdown",
   "id": "8acda636-975e-4b57-b171-f35ecea588f3",
   "metadata": {},
   "source": [
    "# Find the 2rd largest number in array "
   ]
  },
  {
   "cell_type": "code",
   "execution_count": null,
   "id": "a2899ddc-21d4-472b-b490-3d3dd4171eb5",
   "metadata": {},
   "outputs": [],
   "source": [
    "from array import *\n",
    "arr=array('i',[0,-1,-3,3,6,78,34,69,87,22,12,74,74,34,74,34])\n",
    "s_arr=set(arr)\n",
    "sa_arr=sorted(s_arr,reverse=True)\n",
    "# third largest number\n",
    "if len(sa_arr) > 3:\n",
    "    print(sa_arr[2])\n",
    "else: \n",
    "    print(f'Array has less than {len(sa_arr)} numbers')"
   ]
  },
  {
   "cell_type": "markdown",
   "id": "64aec79c-48c3-4a02-bba3-42d5a8361456",
   "metadata": {},
   "source": [
    "### 2rd method"
   ]
  },
  {
   "cell_type": "code",
   "execution_count": null,
   "id": "56ee2ba0-50dc-4e56-a616-e0661ae81fef",
   "metadata": {},
   "outputs": [],
   "source": [
    "from array import *\n",
    "arr=array('i',[0,-1,-3,3,6,78,34,69,87,22,12,74,74,34,74,34])\n",
    "\n",
    "for i in range(len(arr)):\n",
    "    swapper=False\n",
    "    for j in range(len(arr)-i-1):\n",
    "        if arr[j] < arr[j+1]:\n",
    "            arr[j],arr[j+1] = arr[j+1],arr[j]\n",
    "            swapper=True\n",
    "    if not swapper:\n",
    "        break\n",
    "\n",
    "unique_arr = array('i')\n",
    "unique_arr.append(arr[0])\n",
    "\n",
    "for i in range(1, len(arr)):\n",
    "    if arr[i] != arr[i - 1]:\n",
    "        unique_arr.append(arr[i])\n",
    "print(unique_arr)\n",
    "\n",
    "# third largest number\n",
    "if len(unique_arr) > 3:\n",
    "    print(unique_arr[2])\n",
    "else: \n",
    "    print(f'Array has less only {len(unique_arr)} elements')"
   ]
  },
  {
   "cell_type": "markdown",
   "id": "d40ebd95-eb21-4934-8584-66cb9fa68a0a",
   "metadata": {},
   "source": [
    "### 3rd method"
   ]
  },
  {
   "cell_type": "code",
   "execution_count": null,
   "id": "91c7dc66-1238-464d-b045-33b805ba8720",
   "metadata": {},
   "outputs": [],
   "source": [
    "from array import array\n",
    "\n",
    "def find_third_largest(arr):\n",
    "    first = second = third = float('-inf')\n",
    "    for num in arr:\n",
    "        if num == first or num == second or num == third:\n",
    "            continue    \n",
    "        if num > first:\n",
    "            third = second\n",
    "            second = first\n",
    "            first = num\n",
    "        elif num > second:\n",
    "            third = second\n",
    "            second = num\n",
    "        elif num > third:\n",
    "            third = num\n",
    "    if third == float('-inf'):\n",
    "        return None\n",
    "    return third\n",
    "arr1 = array('i', [0,-1,0,-1,0,-1,0,-1,-1,0])\n",
    "arr2 = array('i', [0, -1, -3, 3, 6, 78, 34, 69, 87, 22, 12, 74, 74, 34, 74, 34])\n",
    "print(find_third_largest(arr1))\n",
    "print(find_third_largest(arr2))"
   ]
  },
  {
   "cell_type": "code",
   "execution_count": null,
   "id": "9ed3d70e-2fc9-48e7-831d-86c5ee2917fd",
   "metadata": {},
   "outputs": [],
   "source": []
  },
  {
   "cell_type": "markdown",
   "id": "6f7018cf-c38f-4189-9604-da2236d403cb",
   "metadata": {},
   "source": [
    "# Find the Nth largest Number"
   ]
  },
  {
   "cell_type": "code",
   "execution_count": null,
   "id": "d10084d9-123c-499a-8e41-4411c3e4a471",
   "metadata": {
    "jp-MarkdownHeadingCollapsed": true
   },
   "outputs": [],
   "source": [
    "## from array import *\n",
    "arr = array('i', [0, -1, -3, 3, 6, 78, 34, 69, 87, 122, 12, 74, 74, 34, 74, 34])\n",
    "s_arr=set(arr)\n",
    "a_arr=array('i',s_arr)\n",
    "sa_arr=sorted(a_arr,reverse=True)\n",
    "# Nth largest number\n",
    "N=int(input('Nth Largest Number:'))\n",
    "if len(sa_arr) > N:\n",
    "    print(sa_arr[N-1])\n",
    "else: \n",
    "    print(f'Array has less than {N} numbers')"
   ]
  },
  {
   "cell_type": "markdown",
   "id": "80412496-1f80-4c95-94bc-24170a609e81",
   "metadata": {},
   "source": [
    "### 2nd Method"
   ]
  },
  {
   "cell_type": "code",
   "execution_count": null,
   "id": "41d1f42d-daf0-4482-a55e-bde3b0a44d98",
   "metadata": {},
   "outputs": [],
   "source": [
    "from array import *\n",
    "arr=array('i',[0,-1,-3,3,6,78,34,69,87,22,12,74,74,34,74,34])\n",
    "\n",
    "for i in range(len(arr)):\n",
    "    swapper=False\n",
    "    for j in range(len(arr)-i-1):\n",
    "        if arr[j] < arr[j+1]:\n",
    "            arr[j],arr[j+1] = arr[j+1],arr[j]\n",
    "            swapper=True\n",
    "    if not swapper:\n",
    "        break\n",
    "\n",
    "unique_arr = array('i')\n",
    "unique_arr.append(arr[0])\n",
    "\n",
    "for i in range(1, len(arr)):\n",
    "    if arr[i] != arr[i - 1]:\n",
    "        unique_arr.append(arr[i])\n",
    "print(unique_arr)\n",
    "\n",
    "# Nth largest number\n",
    "N=int(input())\n",
    "if len(unique_arr) > N:\n",
    "    print(unique_arr[N-1])\n",
    "else: \n",
    "    print(f'Array has less only {len(unique_arr)} elements')"
   ]
  },
  {
   "cell_type": "code",
   "execution_count": null,
   "id": "51a10a8d-3b81-41a6-ad4c-9c4bbf8ac1f0",
   "metadata": {},
   "outputs": [],
   "source": []
  },
  {
   "cell_type": "markdown",
   "id": "61efc565-326a-4d05-884b-67c7569fed03",
   "metadata": {},
   "source": [
    "# you need to get/read students mark for five subjects  Minimum of five students.  Find how many students scored marks between 450 to 500 and how many scored between 400 to 450."
   ]
  },
  {
   "cell_type": "code",
   "execution_count": null,
   "id": "46e695b7-f63b-4bef-8a57-7b751c44145b",
   "metadata": {},
   "outputs": [],
   "source": [
    "from array import *\n",
    "subject1_marks = array('i',[85, 90, 78, 92, 88, 76, 95, 89, 84, 91, 87, 80, 83, 94, 77, 82, 85, 90, 78, 92, 88, 76, 95, 89, 84, 91, 87, 80, 83, 94])\n",
    "subject2_marks = array('i',[78, 85, 90, 88, 76, 92, 89, 84, 91, 87, 80, 83, 94, 77, 82, 85, 90, 78, 92, 88, 76, 95, 89, 84, 91, 87, 80, 83, 94, 77])\n",
    "subject3_marks = array('i',[92, 88, 76, 95, 89, 84, 91, 87, 80, 83, 94, 77, 82, 85, 90, 78, 92, 88, 76, 95, 89, 84, 91, 87, 80, 83, 94, 77, 82, 85])\n",
    "subject4_marks = array('i',[85, 90, 78, 92, 88, 76, 95, 89, 84, 91, 87, 80, 83, 94, 77, 82, 85, 90, 78, 92, 88, 76, 95, 89, 84, 91, 87, 80, 83, 94])\n",
    "subject5_marks = array('i',[78, 85, 90, 88, 76, 92, 89, 84, 91, 87, 80, 83, 94, 77, 82, 85, 90, 78, 92, 88, 76, 95, 89, 84, 91, 87, 80, 83, 94, 77])\n",
    "tot_marks = array('i')\n",
    "\n",
    "for i in range(len(subject1_marks)):\n",
    "    tot_marks.append(subject1_marks[i]+subject2_marks[i]+subject3_marks[i]+subject4_marks[i]+subject5_marks[i])\n",
    "\n",
    "for i in range(len(tot_marks)):\n",
    "    swapper=False\n",
    "    for j in range(len(tot_marks)-i-1):\n",
    "        if tot_marks[j] < tot_marks[j+1]:\n",
    "            tot_marks[j], tot_marks[j+1] = tot_marks[j+1], tot_marks[j]\n",
    "            swapper=True\n",
    "    if not swapper:\n",
    "        break\n",
    "\n",
    "first_rank=0\n",
    "second_rank=0\n",
    "for a in tot_marks:\n",
    "    if 450 <= a <= 500:\n",
    "        first_rank+=1\n",
    "    elif 400 <= a <= 450:\n",
    "        second_rank+=1\n",
    "print(f'No.Of.Students scored marks between 450 to 500 = {first_rank}')\n",
    "print(f'No.Of.Students scored marks between 400 to 450 = {second_rank}')"
   ]
  },
  {
   "cell_type": "markdown",
   "id": "58cb7c1e-c713-4940-97f5-5e611c7efd62",
   "metadata": {},
   "source": [
    "### Get Input by User"
   ]
  },
  {
   "cell_type": "code",
   "execution_count": null,
   "id": "265b4e47-bef3-46d6-8917-8b14fe26cb86",
   "metadata": {},
   "outputs": [],
   "source": [
    "M=int(input('No.Of.Students :'))\n",
    "N=int(input('No.Of.Subjects :'))\n",
    "subjects_mark={}\n",
    "\n",
    "def get_valid_input(index,i):\n",
    "    while True:\n",
    "        try:\n",
    "            score = int(input(f\"Enter the marks for student {index + 1} in subject {i+1}: \"))\n",
    "            if 0 < score <= 100:\n",
    "                return score\n",
    "            else:\n",
    "                print(\"Error: Marks should be between 0 and 100. Please try again.\")\n",
    "        except ValueError:\n",
    "            print(\"Error: Invalid input. Please enter a number.\")\n",
    "\n",
    "def collect_marks(num_student,i):\n",
    "    sub_mark=[]\n",
    "    print(f'\\nEntering marks for Subject {i+1} :')\n",
    "    for student in range(num_student):\n",
    "        mark = get_valid_input(student,i)\n",
    "        sub_mark.append(mark)\n",
    "    return sub_mark\n",
    "\n",
    "for i in range(N):\n",
    "    subjects_mark[f'subject_{i+1}']=collect_marks(M,i)\n",
    "\n",
    "print(subjects_mark)"
   ]
  },
  {
   "cell_type": "markdown",
   "id": "98b8ce27-2a0a-4e53-a323-917920ab861c",
   "metadata": {},
   "source": [
    "# Test this method using SampleData(5-Subjects, 30-Students)"
   ]
  },
  {
   "cell_type": "code",
   "execution_count": null,
   "id": "b0163de7-4c04-4091-ac19-fc9c0d1906b3",
   "metadata": {},
   "outputs": [],
   "source": [
    "sampleSubjectsMark={\n",
    "    'subject1' : [85, 90, 78, 92, 88, 76, 95, 89, 84, 91, 87, 80, 83, 94, 77, 82, 85, 90, 78, 92, 88, 76, 95, 89, 84, 91, 87, 80, 83, 94],\n",
    "    'subject2' : [78, 85, 90, 88, 76, 92, 89, 84, 91, 87, 80, 83, 94, 77, 82, 85, 90, 78, 92, 88, 76, 95, 89, 84, 91, 87, 80, 83, 94, 77],\n",
    "    'subject3' : [92, 88, 76, 95, 89, 84, 91, 87, 80, 83, 94, 77, 82, 85, 90, 78, 92, 88, 76, 95, 89, 84, 91, 87, 80, 83, 94, 77, 82, 85],\n",
    "    'subject4' : [85, 90, 78, 92, 88, 76, 95, 89, 84, 91, 87, 80, 83, 94, 77, 82, 85, 90, 78, 92, 88, 76, 95, 89, 84, 91, 87, 80, 83, 94],\n",
    "    'subject5' : [78, 85, 90, 88, 76, 92, 89, 84, 91, 87, 80, 83, 94, 77, 82, 85, 90, 78, 92, 88, 76, 95, 89, 84, 91, 87, 80, 83, 94, 77]\n",
    "}"
   ]
  },
  {
   "cell_type": "code",
   "execution_count": null,
   "id": "c88a6985-1dce-4b0c-99f7-47c00ba8b1c3",
   "metadata": {},
   "outputs": [],
   "source": [
    "tot_marks=[]\n",
    "for i in range(len(sampleSubjectsMark['subject1'])):\n",
    "    tot_marks.append(sampleSubjectsMark['subject1'][i]+sampleSubjectsMark['subject2'][i]+sampleSubjectsMark['subject3'][i]+sampleSubjectsMark['subject4'][i]+sampleSubjectsMark['subject5'][i])\n",
    "\n",
    "for i in range(len(tot_marks)):\n",
    "    swapper=False\n",
    "    for j in range(len(tot_marks)-i-1):\n",
    "        if tot_marks[j] < tot_marks[j+1]:\n",
    "            tot_marks[j], tot_marks[j+1] = tot_marks[j+1], tot_marks[j]\n",
    "            swapper=True\n",
    "    if not swapper:\n",
    "        break\n",
    "\n",
    "first_rank=0\n",
    "second_rank=0\n",
    "for a in tot_marks:\n",
    "    if 450 <= a <= 500:\n",
    "        first_rank+=1\n",
    "    elif 400 <= a <= 450:\n",
    "        second_rank+=1\n",
    "print(f'No.Of.Students scored marks between 450 to 500 = {first_rank}')\n",
    "print(f'No.Of.Students scored marks between 400 to 450 = {second_rank}')"
   ]
  },
  {
   "cell_type": "code",
   "execution_count": null,
   "id": "f0d904d3-8299-4c01-baaf-38f27922d104",
   "metadata": {},
   "outputs": [],
   "source": []
  },
  {
   "cell_type": "code",
   "execution_count": null,
   "id": "b85dd025-5af4-4b66-85d9-4c4cfb6a8788",
   "metadata": {},
   "outputs": [],
   "source": []
  }
 ],
 "metadata": {
  "kernelspec": {
   "display_name": "Python 3 (ipykernel)",
   "language": "python",
   "name": "python3"
  },
  "language_info": {
   "codemirror_mode": {
    "name": "ipython",
    "version": 3
   },
   "file_extension": ".py",
   "mimetype": "text/x-python",
   "name": "python",
   "nbconvert_exporter": "python",
   "pygments_lexer": "ipython3",
   "version": "3.11.7"
  }
 },
 "nbformat": 4,
 "nbformat_minor": 5
}
