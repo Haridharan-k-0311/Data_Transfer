{
  "nbformat": 4,
  "nbformat_minor": 0,
  "metadata": {
    "colab": {
      "provenance": []
    },
    "kernelspec": {
      "name": "python3",
      "display_name": "Python 3"
    },
    "language_info": {
      "name": "python"
    }
  },
  "cells": [
    {
      "cell_type": "code",
      "source": [
        "#Import libarary"
      ],
      "metadata": {
        "id": "JLyN8DVcCPwk"
      },
      "execution_count": 1,
      "outputs": []
    },
    {
      "cell_type": "code",
      "source": [
        "from tensorflow import keras"
      ],
      "metadata": {
        "id": "_VXLQ2ptCTf4"
      },
      "execution_count": null,
      "outputs": []
    },
    {
      "cell_type": "code",
      "source": [
        "import numpy as np"
      ],
      "metadata": {
        "id": "Bw5jNggdCX98"
      },
      "execution_count": null,
      "outputs": []
    },
    {
      "cell_type": "code",
      "source": [
        "import tensorflow as tf"
      ],
      "metadata": {
        "id": "vljCzTCxCbEY"
      },
      "execution_count": null,
      "outputs": []
    },
    {
      "cell_type": "code",
      "source": [
        "from matplotlib import pyplot as plt"
      ],
      "metadata": {
        "id": "QIGLlMmsCedO"
      },
      "execution_count": null,
      "outputs": []
    },
    {
      "cell_type": "code",
      "source": [
        "tf.keras.datasets"
      ],
      "metadata": {
        "id": "P-vxncroCkR-"
      },
      "execution_count": null,
      "outputs": []
    },
    {
      "cell_type": "code",
      "source": [
        "from keras.datasets import cifar10"
      ],
      "metadata": {
        "id": "lmyYODAtDJRD"
      },
      "execution_count": null,
      "outputs": []
    },
    {
      "cell_type": "code",
      "source": [
        "data = cifar10.load_data()"
      ],
      "metadata": {
        "id": "4cpQLBYdDPJn"
      },
      "execution_count": null,
      "outputs": []
    },
    {
      "cell_type": "markdown",
      "source": [
        "#Data Split"
      ],
      "metadata": {
        "id": "jtKm07ccEguL"
      }
    },
    {
      "cell_type": "code",
      "source": [
        "(trainx,trainy),(testx,testy)=cifar10.load_data()"
      ],
      "metadata": {
        "id": "iAgKOlxVEjyF"
      },
      "execution_count": null,
      "outputs": []
    },
    {
      "cell_type": "code",
      "source": [
        "print('train x=%s,y=%s'%(trainx.shape,trainy.shape))"
      ],
      "metadata": {
        "id": "-zgw85XdE3s3"
      },
      "execution_count": null,
      "outputs": []
    },
    {
      "cell_type": "code",
      "source": [
        "print('tesst x=%s,y=%s'%(testx.shape,testy.shape))"
      ],
      "metadata": {
        "id": "gVDCPodfFM21"
      },
      "execution_count": null,
      "outputs": []
    },
    {
      "cell_type": "markdown",
      "source": [
        "#Visualizing"
      ],
      "metadata": {
        "id": "WBIW1Tx-Fx8U"
      }
    },
    {
      "cell_type": "code",
      "source": [
        "for i in range(6):\n",
        "  plt.subplot(230+1+i)\n",
        "  plt.imshow(trainx[i])\n",
        "plt.show()"
      ],
      "metadata": {
        "id": "5eOsYVKWF83A"
      },
      "execution_count": null,
      "outputs": []
    },
    {
      "cell_type": "code",
      "source": [
        "plt.imshow(trainx[2])"
      ],
      "metadata": {
        "id": "DLgbQ69DGOYJ"
      },
      "execution_count": null,
      "outputs": []
    },
    {
      "cell_type": "code",
      "source": [
        "plt.imshow(trainx[55])"
      ],
      "metadata": {
        "id": "nIrObqOuHBK2"
      },
      "execution_count": null,
      "outputs": []
    },
    {
      "cell_type": "code",
      "source": [
        "plt.imshow(testx[55])"
      ],
      "metadata": {
        "id": "_QIONod9HFxl"
      },
      "execution_count": null,
      "outputs": []
    },
    {
      "cell_type": "code",
      "source": [
        "plt.imshow(trainx[45])"
      ],
      "metadata": {
        "id": "_IZmh6gPHdCW"
      },
      "execution_count": null,
      "outputs": []
    },
    {
      "cell_type": "code",
      "source": [
        "\n"
      ],
      "metadata": {
        "id": "14yOi0kuHlW8"
      },
      "execution_count": null,
      "outputs": []
    },
    {
      "cell_type": "markdown",
      "source": [
        "#MNIST"
      ],
      "metadata": {
        "id": "G7QDps8FIQ1n"
      }
    },
    {
      "cell_type": "code",
      "source": [
        "from keras.datasets import mnist\n"
      ],
      "metadata": {
        "id": "aRR76DijIUEY"
      },
      "execution_count": null,
      "outputs": []
    },
    {
      "cell_type": "code",
      "source": [
        "(train_x,train_y),(test_x,test_y)=mnist.load_data()"
      ],
      "metadata": {
        "id": "TdupProtIZFO"
      },
      "execution_count": null,
      "outputs": []
    },
    {
      "cell_type": "code",
      "source": [
        "print('train x=%s,y=%s'%(train_x.shape,train_y.shape))"
      ],
      "metadata": {
        "id": "6j7SOIPMIsys"
      },
      "execution_count": null,
      "outputs": []
    },
    {
      "cell_type": "code",
      "source": [
        "print('test x=%s,y=%s'%(test_x.shape,test_y.shape))"
      ],
      "metadata": {
        "id": "kjW1jfIvIx4k"
      },
      "execution_count": null,
      "outputs": []
    },
    {
      "cell_type": "markdown",
      "source": [
        "#visualizing minist data"
      ],
      "metadata": {
        "id": "3x0BRpwOKcn8"
      }
    },
    {
      "cell_type": "code",
      "source": [
        "plt.imshow(train_x[6],cmap='Greys')\n",
        "plt.show()"
      ],
      "metadata": {
        "id": "-EU-x1-cKift"
      },
      "execution_count": null,
      "outputs": []
    },
    {
      "cell_type": "code",
      "source": [
        "print(train_x[6])"
      ],
      "metadata": {
        "id": "_nITlyuzKtt8"
      },
      "execution_count": null,
      "outputs": []
    },
    {
      "cell_type": "code",
      "source": [],
      "metadata": {
        "id": "LRjwmCCT2OhM"
      },
      "execution_count": null,
      "outputs": []
    }
  ]
}