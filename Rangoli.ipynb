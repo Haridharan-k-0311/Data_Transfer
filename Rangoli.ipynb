{
 "cells": [
  {
   "cell_type": "code",
   "execution_count": null,
   "id": "b948d49c",
   "metadata": {
    "scrolled": true
   },
   "outputs": [],
   "source": [
    "N=int(input())\n",
    "for i in range(0,N):\n",
    "    for j in range(97,97+N-i):\n",
    "        print(chr(j),end='-')\n",
    "    print('')"
   ]
  },
  {
   "cell_type": "code",
   "execution_count": null,
   "id": "8e1c55e8",
   "metadata": {},
   "outputs": [],
   "source": [
    "N=int(input())\n",
    "for i in range(N):\n",
    "    for j in range(97,97+i+1):\n",
    "        print(chr(j),end='-')\n",
    "    print('')"
   ]
  },
  {
   "cell_type": "code",
   "execution_count": null,
   "id": "771fe84f",
   "metadata": {},
   "outputs": [],
   "source": [
    "N=int(input())\n",
    "for i in range(N):\n",
    "    for j in range(97,97+i+1):\n",
    "        print('-'+chr(j),end='')\n",
    "    print('')\n",
    "for i in range(N):\n",
    "    for j in range(97,97+N-i):\n",
    "        print('-'+chr(j),end='')\n",
    "    print('')"
   ]
  },
  {
   "cell_type": "raw",
   "id": "d5a222d6",
   "metadata": {},
   "source": [
    "Wrong"
   ]
  },
  {
   "cell_type": "code",
   "execution_count": null,
   "id": "3ccf7287",
   "metadata": {},
   "outputs": [],
   "source": [
    "N=int(input())\n",
    "\n",
    "for i in range(N):\n",
    "    for j in range(0,i):\n",
    "        print('--',end='')\n",
    "    for j in range(97+N-i,97):\n",
    "        print(j,end='-')\n",
    "    print('')"
   ]
  },
  {
   "cell_type": "raw",
   "id": "7726d474",
   "metadata": {},
   "source": [
    "Change"
   ]
  },
  {
   "cell_type": "code",
   "execution_count": null,
   "id": "49920260",
   "metadata": {},
   "outputs": [],
   "source": [
    "N=int(input())\n",
    "\n",
    "for i in range(N):\n",
    "    for j in range(0,i):\n",
    "        print('--',end='')\n",
    "    for j in range(97,97+N-i):\n",
    "        print('-'+chr(j),end='')\n",
    "    print('')"
   ]
  },
  {
   "cell_type": "raw",
   "id": "3e365c15",
   "metadata": {},
   "source": [
    "Change"
   ]
  },
  {
   "cell_type": "code",
   "execution_count": null,
   "id": "abe64908",
   "metadata": {},
   "outputs": [],
   "source": [
    "N=int(input())\n",
    "\n",
    "for i in range(N):\n",
    "    for j in range(0,N-i-1):\n",
    "        print('--',end='')\n",
    "    for j in range(97,97+i+1):\n",
    "        print(chr(j),end='-')\n",
    "    print('')"
   ]
  },
  {
   "cell_type": "raw",
   "id": "04462de1",
   "metadata": {},
   "source": [
    "Change"
   ]
  },
  {
   "cell_type": "code",
   "execution_count": null,
   "id": "955cd654",
   "metadata": {},
   "outputs": [],
   "source": [
    "N=int(input())\n",
    "\n",
    "for i in range(N):\n",
    "    for j in range(0,N-i-1):\n",
    "        print('--',end='')\n",
    "    for j in range(98,98+i+1):\n",
    "        print('-'+chr(j),end='')\n",
    "    print('')\n",
    "for i in range(1,N):\n",
    "    for j in range(0,i):\n",
    "        print('--',end='')\n",
    "    for j in range(98,98+N-i):\n",
    "        print('-'+chr(j),end='')\n",
    "    print('')"
   ]
  },
  {
   "cell_type": "code",
   "execution_count": null,
   "id": "1dbde378",
   "metadata": {},
   "outputs": [],
   "source": [
    "N=int(input())\n",
    "for i in range(N):\n",
    "    for j in range(97,97+i+1):\n",
    "        print('-'+chr(j),end='')\n",
    "    print('')\n",
    "for i in range(N):\n",
    "    for j in range(97,97+N-i):\n",
    "        print('-'+chr(j),end='')\n",
    "    print('')"
   ]
  },
  {
   "cell_type": "code",
   "execution_count": null,
   "id": "da6182b6",
   "metadata": {},
   "outputs": [],
   "source": []
  }
 ],
 "metadata": {
  "kernelspec": {
   "display_name": "Python 3 (ipykernel)",
   "language": "python",
   "name": "python3"
  },
  "language_info": {
   "codemirror_mode": {
    "name": "ipython",
    "version": 3
   },
   "file_extension": ".py",
   "mimetype": "text/x-python",
   "name": "python",
   "nbconvert_exporter": "python",
   "pygments_lexer": "ipython3",
   "version": "3.9.7"
  }
 },
 "nbformat": 4,
 "nbformat_minor": 5
}
