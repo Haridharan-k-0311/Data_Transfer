{
 "cells": [
  {
   "cell_type": "code",
   "execution_count": 1,
   "id": "b948d49c",
   "metadata": {
    "scrolled": true
   },
   "outputs": [
    {
     "name": "stdin",
     "output_type": "stream",
     "text": [
      " 5\n"
     ]
    },
    {
     "name": "stdout",
     "output_type": "stream",
     "text": [
      "a-b-c-d-e-\n",
      "a-b-c-d-\n",
      "a-b-c-\n",
      "a-b-\n",
      "a-\n"
     ]
    }
   ],
   "source": [
    "N=int(input())\n",
    "for i in range(0,N):\n",
    "    for j in range(97,97+N-i):\n",
    "        print(chr(j),end='-')\n",
    "    print('')"
   ]
  },
  {
   "cell_type": "code",
   "execution_count": 2,
   "id": "8e1c55e8",
   "metadata": {},
   "outputs": [
    {
     "name": "stdin",
     "output_type": "stream",
     "text": [
      " 5\n"
     ]
    },
    {
     "name": "stdout",
     "output_type": "stream",
     "text": [
      "a-\n",
      "a-b-\n",
      "a-b-c-\n",
      "a-b-c-d-\n",
      "a-b-c-d-e-\n"
     ]
    }
   ],
   "source": [
    "N=int(input())\n",
    "for i in range(N):\n",
    "    for j in range(97,97+i+1):\n",
    "        print(chr(j),end='-')\n",
    "    print('')"
   ]
  },
  {
   "cell_type": "code",
   "execution_count": 3,
   "id": "771fe84f",
   "metadata": {},
   "outputs": [
    {
     "name": "stdin",
     "output_type": "stream",
     "text": [
      " 5\n"
     ]
    },
    {
     "name": "stdout",
     "output_type": "stream",
     "text": [
      "-a\n",
      "-a-b\n",
      "-a-b-c\n",
      "-a-b-c-d\n",
      "-a-b-c-d-e\n",
      "-a-b-c-d-e\n",
      "-a-b-c-d\n",
      "-a-b-c\n",
      "-a-b\n",
      "-a\n"
     ]
    }
   ],
   "source": [
    "N=int(input())\n",
    "for i in range(N):\n",
    "    for j in range(97,97+i+1):\n",
    "        print('-'+chr(j),end='')\n",
    "    print('')\n",
    "for i in range(N):\n",
    "    for j in range(97,97+N-i):\n",
    "        print('-'+chr(j),end='')\n",
    "    print('')"
   ]
  },
  {
   "cell_type": "code",
   "execution_count": 8,
   "id": "49920260",
   "metadata": {},
   "outputs": [
    {
     "name": "stdin",
     "output_type": "stream",
     "text": [
      " 5\n"
     ]
    },
    {
     "name": "stdout",
     "output_type": "stream",
     "text": [
      "-e-d-c-b-a\n",
      "---d-c-b-a\n",
      "-----c-b-a\n",
      "-------b-a\n",
      "---------a\n"
     ]
    }
   ],
   "source": [
    "N=int(input())\n",
    "\n",
    "for i in range(N):\n",
    "    for j in range(0,i):\n",
    "        print('--',end='')\n",
    "    for j in range(96+N-i,96,-1):\n",
    "        print('-'+chr(j),end='')\n",
    "    print('')"
   ]
  },
  {
   "cell_type": "code",
   "execution_count": 9,
   "id": "abe64908",
   "metadata": {},
   "outputs": [
    {
     "name": "stdin",
     "output_type": "stream",
     "text": [
      " 5\n"
     ]
    },
    {
     "name": "stdout",
     "output_type": "stream",
     "text": [
      "--------a-\n",
      "------b-a-\n",
      "----c-b-a-\n",
      "--d-c-b-a-\n",
      "e-d-c-b-a-\n"
     ]
    }
   ],
   "source": [
    "N=int(input())\n",
    "\n",
    "for i in range(N):\n",
    "    for j in range(0,N-i-1):\n",
    "        print('--',end='')\n",
    "    for j in range(96+i+1,96,-1):\n",
    "        print(chr(j),end='-')\n",
    "    print('')"
   ]
  },
  {
   "cell_type": "code",
   "execution_count": 10,
   "id": "955cd654",
   "metadata": {},
   "outputs": [
    {
     "name": "stdin",
     "output_type": "stream",
     "text": [
      " 5\n"
     ]
    },
    {
     "name": "stdout",
     "output_type": "stream",
     "text": [
      "--------\n",
      "-------b\n",
      "-----c-b\n",
      "---d-c-b\n",
      "-e-d-c-b\n",
      "---d-c-b\n",
      "-----c-b\n",
      "-------b\n",
      "--------\n"
     ]
    }
   ],
   "source": [
    "N=int(input())\n",
    "\n",
    "for i in range(N):\n",
    "    for j in range(0,N-i-1):\n",
    "        print('--',end='')\n",
    "    for j in range(96+i+1,97,-1):\n",
    "        print('-'+chr(j),end='')\n",
    "    print('')\n",
    "for i in range(1,N):\n",
    "    for j in range(i):\n",
    "        print('--',end='')\n",
    "    for j in range(96+N-i,97,-1):\n",
    "        print('-'+chr(j),end='')\n",
    "    print('')"
   ]
  },
  {
   "cell_type": "code",
   "execution_count": 11,
   "id": "1dbde378",
   "metadata": {},
   "outputs": [
    {
     "name": "stdin",
     "output_type": "stream",
     "text": [
      " 5\n"
     ]
    },
    {
     "name": "stdout",
     "output_type": "stream",
     "text": [
      "----------\n",
      "-a--------\n",
      "-a-b------\n",
      "-a-b-c----\n",
      "-a-b-c-d--\n",
      "-a-b-c-d-e\n",
      "-a-b-c-d--\n",
      "-a-b-c----\n",
      "-a-b------\n",
      "-a--------\n"
     ]
    }
   ],
   "source": [
    "N=int(input())\n",
    "for i in range(N):\n",
    "    for j in range(97,96+i+1):\n",
    "        print('-'+chr(j),end='')\n",
    "    for j in range(0,N-i):\n",
    "        print('--',end='')\n",
    "    print('')\n",
    "for i in range(N):\n",
    "    for j in range(97,97+N-i):\n",
    "        print('-'+chr(j),end='')\n",
    "    for j in range(0,i):\n",
    "        print('--',end='')\n",
    "    print('')"
   ]
  },
  {
   "cell_type": "code",
   "execution_count": 12,
   "id": "da6182b6",
   "metadata": {},
   "outputs": [
    {
     "name": "stdin",
     "output_type": "stream",
     "text": [
      " 5\n"
     ]
    },
    {
     "name": "stdout",
     "output_type": "stream",
     "text": [
      "--------a--------\n",
      "------b-a-b------\n",
      "----c-b-a-b-c----\n",
      "--d-c-b-a-b-c-d--\n",
      "e-d-c-b-a-b-c-d-e\n",
      "--d-c-b-a-b-c-d--\n",
      "----c-b-a-b-c----\n",
      "------b-a-b------\n",
      "--------a--------\n"
     ]
    }
   ],
   "source": [
    "N=int(input())\n",
    "for i in range(N):\n",
    "    for j in range(0,N-i-1):\n",
    "        print('--',end='')\n",
    "    for j in range(96+i+1,97,-1):\n",
    "        print(''+chr(j),end='-')\n",
    "    for j in range(97,97+i+1):\n",
    "        if j == 97:\n",
    "            print(''+chr(j),end='')\n",
    "        else:\n",
    "            print('-'+chr(j),end='')\n",
    "    for j in range(0,N-i-1):\n",
    "        print('--',end='')\n",
    "    print('')\n",
    "for i in range(1,N):\n",
    "    for j in range(i):\n",
    "        print('--',end='')\n",
    "    for j in range(96+N-i,97,-1):\n",
    "        print(''+chr(j),end='-')\n",
    "    for j in range(97,97+N-i):\n",
    "        if j == 97:\n",
    "            print(''+chr(j),end='')\n",
    "        else:\n",
    "            print('-'+chr(j),end='')\n",
    "    for j in range(0,i):\n",
    "        print('--',end='')\n",
    "    print('')"
   ]
  },
  {
   "cell_type": "code",
   "execution_count": 42,
   "id": "2ab5e9c8-a1a6-4330-b064-92daa252162f",
   "metadata": {},
   "outputs": [
    {
     "name": "stdout",
     "output_type": "stream",
     "text": [
      "5 \n",
      "4 5 \n",
      "3 4 5 \n",
      "2 3 4 5 \n",
      "1 2 3 4 5 \n"
     ]
    }
   ],
   "source": [
    "\"\"\"\n",
    "5\n",
    "4 5 \n",
    "3 4 5\n",
    "2 3 4 5\n",
    "1 2 3 4 5\n",
    "\"\"\"\n",
    "\n",
    "for i in range(5):\n",
    "    for j in range(i+1,0,-1):\n",
    "        print(6-j,end=' ')\n",
    "    print('')"
   ]
  },
  {
   "cell_type": "code",
   "execution_count": 79,
   "id": "5a67ff63-5262-4bd5-b085-9483a6695e05",
   "metadata": {},
   "outputs": [
    {
     "name": "stdout",
     "output_type": "stream",
     "text": [
      "2 3 4 5 \n",
      "3 4 5 \n",
      "4 5 \n",
      "5 \n"
     ]
    }
   ],
   "source": [
    "\"\"\"\n",
    "1 2 3 4 5\n",
    "2 3 4 5\n",
    "3 4 5\n",
    "4 5\n",
    "5\n",
    "\"\"\"\n",
    "\n",
    "for i in range(2,6):\n",
    "    for j in range(i,6):\n",
    "        print(j,end=' ')\n",
    "    print('')"
   ]
  },
  {
   "cell_type": "code",
   "execution_count": 133,
   "id": "cf65b6ab-8456-47e0-a5a9-89af30a0a7eb",
   "metadata": {},
   "outputs": [
    {
     "name": "stdout",
     "output_type": "stream",
     "text": [
      "5 \n",
      "4 5 \n",
      "3 4 5 \n",
      "2 3 4 5 \n",
      "1 2 3 4 5 \n",
      "2 3 4 5 \n",
      "3 4 5 \n",
      "4 5 \n",
      "5 \n"
     ]
    }
   ],
   "source": [
    "for i in range(5):\n",
    "    for j in range(i+1,0,-1):\n",
    "        print(6-j,end=' ')\n",
    "    print('')\n",
    "for i in range(2,6):\n",
    "    for j in range(i,6):\n",
    "        print(j,end=' ')\n",
    "    print('')"
   ]
  },
  {
   "cell_type": "code",
   "execution_count": 85,
   "id": "d8118823-dc50-4169-bcb8-af844993004f",
   "metadata": {},
   "outputs": [
    {
     "name": "stdin",
     "output_type": "stream",
     "text": [
      " 8\n"
     ]
    },
    {
     "name": "stdout",
     "output_type": "stream",
     "text": [
      "h \n",
      "g h \n",
      "f g h \n",
      "e f g h \n",
      "d e f g h \n",
      "c d e f g h \n",
      "b c d e f g h \n",
      "a b c d e f g h \n",
      "b c d e f g h \n",
      "c d e f g h \n",
      "d e f g h \n",
      "e f g h \n",
      "f g h \n",
      "g h \n",
      "h \n"
     ]
    }
   ],
   "source": [
    "H=int(input())\n",
    "for i in range(H):\n",
    "    for j in range(i+1,0,-1):\n",
    "        print(chr(96+H+1-j),end=' ')\n",
    "    print('')\n",
    "for i in range(2,H+1):\n",
    "    for j in range(i,H+1):\n",
    "        print(chr(96+j),end=' ')\n",
    "    print('')"
   ]
  },
  {
   "cell_type": "code",
   "execution_count": 105,
   "id": "20016e86-a31c-47b8-a871-4d6bde5ad312",
   "metadata": {},
   "outputs": [
    {
     "name": "stdin",
     "output_type": "stream",
     "text": [
      " 5\n"
     ]
    },
    {
     "name": "stdout",
     "output_type": "stream",
     "text": [
      "-e--------\n",
      "-d-e------\n",
      "-c-d-e----\n",
      "-b-c-d-e--\n",
      "-a-b-c-d-e\n",
      "-b-c-d-e--\n",
      "-c-d-e----\n",
      "-d-e------\n",
      "-e--------\n"
     ]
    }
   ],
   "source": [
    "H=int(input())\n",
    "for i in range(H):\n",
    "    for j in range(i+1,0,-1):\n",
    "        print('-'+chr(96+H+1-j),end='')\n",
    "    for j in range(i,H-1):\n",
    "        print('-',end='-')\n",
    "    print('')\n",
    "for i in range(2,H+1):\n",
    "    for j in range(i,H+1):\n",
    "        print('-'+chr(96+j),end='')\n",
    "    for j in range(i-1,0,-1):\n",
    "        print('-',end='-')\n",
    "    print('')"
   ]
  },
  {
   "cell_type": "code",
   "execution_count": 102,
   "id": "22d7fae3-77b4-4361-adc3-e0e5a111ad26",
   "metadata": {},
   "outputs": [
    {
     "name": "stdout",
     "output_type": "stream",
     "text": [
      "- - - - 5 \n",
      "- - - 5 4 \n",
      "- - 5 4 3 \n",
      "- 5 4 3 2 \n",
      "5 4 3 2 1 \n"
     ]
    }
   ],
   "source": [
    "\"\"\"\n",
    "5\n",
    "4 5 \n",
    "3 4 5\n",
    "2 3 4 5\n",
    "1 2 3 4 5\n",
    "\n",
    "\n",
    "for i in range(5):\n",
    "    for j in range(i+1,0,-1):\n",
    "        print(6-j,end=' ')\n",
    "    print('')\n",
    "\"\"\"\n",
    "\n",
    "\"\"\"\n",
    "        5\n",
    "      5 4\n",
    "    5 4 3\n",
    "  5 4 3 2\n",
    "5 4 3 2 1\n",
    "\"\"\"\n",
    "\n",
    "for i in range(5):\n",
    "    for j in range(5,i+1,-1):\n",
    "        print('-',end=' ')\n",
    "    for j in range(5,4-i,-1):\n",
    "        print(j,end=' ')\n",
    "    print('')"
   ]
  },
  {
   "cell_type": "code",
   "execution_count": 131,
   "id": "94ed2905-57cb-4049-be05-82bfba27aed8",
   "metadata": {},
   "outputs": [
    {
     "name": "stdout",
     "output_type": "stream",
     "text": [
      "- 4 3 2 1 \n",
      "- - 4 3 2 \n",
      "- - - 4 3 \n",
      "- - - - 4 \n"
     ]
    }
   ],
   "source": [
    "\"\"\"\n",
    "1 2 3 4 5\n",
    "2 3 4 5\n",
    "3 4 5\n",
    "4 5\n",
    "5\n",
    "\n",
    "for i in range(2,6):\n",
    "    for j in range(i,6):\n",
    "        print(j,end=' ')\n",
    "    print('')\n",
    "\"\"\"\n",
    "\n",
    "\"\"\"\n",
    "5 4 3 2 1\n",
    "  5 4 3 2\n",
    "    5 4 3\n",
    "      5 4\n",
    "        5\n",
    "\"\"\"\n",
    "for i in range(1,5):\n",
    "    for j in range(0,i):\n",
    "        print('-',end=' ')\n",
    "    for j in range(4,i-1,-1):\n",
    "        print(j,end=' ')\n",
    "    print('')"
   ]
  },
  {
   "cell_type": "code",
   "execution_count": 141,
   "id": "1eeaad38-6e16-488f-b34a-85672bb19200",
   "metadata": {},
   "outputs": [
    {
     "name": "stdin",
     "output_type": "stream",
     "text": [
      " 8\n"
     ]
    },
    {
     "name": "stdout",
     "output_type": "stream",
     "text": [
      "- - - - - - - 8 \n",
      "- - - - - - 8 7 \n",
      "- - - - - 8 7 6 \n",
      "- - - - 8 7 6 5 \n",
      "- - - 8 7 6 5 4 \n",
      "- - 8 7 6 5 4 3 \n",
      "- 8 7 6 5 4 3 2 \n",
      "8 7 6 5 4 3 2 1 \n"
     ]
    }
   ],
   "source": [
    "G=int(input())\n",
    "for i in range(G):\n",
    "    for j in range(G,i+1,-1):\n",
    "        print('-',end=' ')\n",
    "    for j in range(G,G-1-i,-1):\n",
    "        print(j,end=' ')\n",
    "    print('')"
   ]
  },
  {
   "cell_type": "code",
   "execution_count": 177,
   "id": "1b7d3e19-03f5-4e4b-b388-0630524eb209",
   "metadata": {},
   "outputs": [
    {
     "name": "stdin",
     "output_type": "stream",
     "text": [
      " 8\n"
     ]
    },
    {
     "name": "stdout",
     "output_type": "stream",
     "text": [
      "- - - - - - - 8 \n",
      "- - - - - - 8 7 \n",
      "- - - - - 8 7 6 \n",
      "- - - - 8 7 6 5 \n",
      "- - - 8 7 6 5 4 \n",
      "- - 8 7 6 5 4 3 \n",
      "- 8 7 6 5 4 3 2 \n",
      "8 7 6 5 4 3 2 1 \n",
      "- 8 7 6 5 4 3 2 \n",
      "- - 8 7 6 5 4 3 \n",
      "- - - 8 7 6 5 4 \n",
      "- - - - 8 7 6 5 \n",
      "- - - - - 8 7 6 \n",
      "- - - - - - 8 7 \n",
      "- - - - - - - 8 \n",
      "\n"
     ]
    }
   ],
   "source": [
    "G=int(input())\n",
    "for i in range(G):\n",
    "    for j in range(G,i+1,-1):\n",
    "        print('-',end=' ')\n",
    "    for j in range(G,G-1-i,-1):\n",
    "        print(j,end=' ')\n",
    "    print('')\n",
    "for i in range(G):\n",
    "    if i != G-1:\n",
    "        for j in range(i+1):\n",
    "            print('-',end=' ')\n",
    "    for j in range(G,i+1,-1):\n",
    "        print(j,end=' ')\n",
    "    print('')"
   ]
  },
  {
   "cell_type": "code",
   "execution_count": null,
   "id": "f6cbb9f5-b9f2-4e59-bf36-74964bf0e14d",
   "metadata": {},
   "outputs": [],
   "source": []
  }
 ],
 "metadata": {
  "kernelspec": {
   "display_name": "Python 3 (ipykernel)",
   "language": "python",
   "name": "python3"
  },
  "language_info": {
   "codemirror_mode": {
    "name": "ipython",
    "version": 3
   },
   "file_extension": ".py",
   "mimetype": "text/x-python",
   "name": "python",
   "nbconvert_exporter": "python",
   "pygments_lexer": "ipython3",
   "version": "3.11.7"
  }
 },
 "nbformat": 4,
 "nbformat_minor": 5
}
