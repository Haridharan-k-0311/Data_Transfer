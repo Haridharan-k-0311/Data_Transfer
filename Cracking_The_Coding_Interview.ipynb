{
 "cells": [
  {
   "cell_type": "markdown",
   "id": "61cb3b3b-b945-4150-b294-b16a0043e58d",
   "metadata": {},
   "source": [
    "## 1.1 Is Unique: "
   ]
  },
  {
   "cell_type": "raw",
   "id": "cd4e46e8-d735-40d9-b846-3f00015cb26f",
   "metadata": {},
   "source": [
    "Implement an algorithm to determine if a string has all unique characters. What if you cannot use additional data structures? "
   ]
  },
  {
   "cell_type": "code",
   "execution_count": null,
   "id": "de2d5e57-bb3c-4388-8983-95d794c1a928",
   "metadata": {},
   "outputs": [],
   "source": [
    "def unique_characters(given_string):\n",
    "    seen = ''\n",
    "    for char in given_string:\n",
    "        if char in seen:\n",
    "            return print('Is Not Unique')\n",
    "        seen+=char\n",
    "    print('Is Unique')\n"
   ]
  },
  {
   "cell_type": "code",
   "execution_count": null,
   "id": "efd51f4e-6bae-4030-8435-862ccf6c4817",
   "metadata": {},
   "outputs": [],
   "source": [
    "unique_characters('adbklxsne')\n",
    "unique_characters('abishek')\n",
    "unique_characters('haridharan')\n",
    "unique_characters('vishnu')"
   ]
  },
  {
   "cell_type": "markdown",
   "id": "3e80f230-de00-4316-9be4-1555eeec2703",
   "metadata": {},
   "source": [
    "## 1.2 Check Permutation:"
   ]
  },
  {
   "cell_type": "raw",
   "id": "64084de6-67cd-49f8-a441-15c63b04465e",
   "metadata": {},
   "source": [
    "Given two strings, write a method to decide if one is a permutation of the other. "
   ]
  },
  {
   "cell_type": "code",
   "execution_count": null,
   "id": "542769ec-3013-46cc-bdbc-0e61940c1c83",
   "metadata": {},
   "outputs": [],
   "source": [
    "def character_count(str):\n",
    "    count = {}\n",
    "    for char in str:\n",
    "        count[char] = count.get(char,0)+1\n",
    "    return count\n",
    "\n",
    "def permutation_strings(str1, str2):\n",
    "    if len(str1) != len(str2):\n",
    "        return print('Is Not Permutation')\n",
    "        \n",
    "    count1 = character_count(str1)\n",
    "    count2 = character_count(str2)\n",
    "\n",
    "    if count1 == count2:\n",
    "        print('Is Permutation')\n",
    "    else:\n",
    "        print('Is Not Permutation')\n"
   ]
  },
  {
   "cell_type": "code",
   "execution_count": null,
   "id": "db65bbb3-8b88-408a-b99e-2f11e98ecdf5",
   "metadata": {},
   "outputs": [],
   "source": [
    "permutation_strings('listen','silent')\n",
    "permutation_strings('hello','world')\n",
    "permutation_strings('aabb','ab')\n",
    "permutation_strings('aabb','abcd')"
   ]
  },
  {
   "cell_type": "code",
   "execution_count": null,
   "id": "b39e6da7-ca0c-4f29-a997-90f1263200b4",
   "metadata": {},
   "outputs": [],
   "source": []
  }
 ],
 "metadata": {
  "kernelspec": {
   "display_name": "Python 3 (ipykernel)",
   "language": "python",
   "name": "python3"
  },
  "language_info": {
   "codemirror_mode": {
    "name": "ipython",
    "version": 3
   },
   "file_extension": ".py",
   "mimetype": "text/x-python",
   "name": "python",
   "nbconvert_exporter": "python",
   "pygments_lexer": "ipython3",
   "version": "3.11.7"
  }
 },
 "nbformat": 4,
 "nbformat_minor": 5
}
