{
 "cells": [
  {
   "cell_type": "code",
   "execution_count": 1,
   "id": "a541f467",
   "metadata": {},
   "outputs": [
    {
     "name": "stdout",
     "output_type": "stream",
     "text": [
      "Set after adding and removing: {1, 2, 4, 5}\n",
      "Union of sets: {1, 2, 3, 4, 5, 6}\n",
      "Intersection of sets: {4, 5}\n",
      "Difference of sets: {1, 2}\n"
     ]
    }
   ],
   "source": [
    "# Create a set\n",
    "s = {1, 2, 3, 4}\n",
    "\n",
    "# Add an element\n",
    "s.add(5)\n",
    "\n",
    "# Remove an element\n",
    "s.remove(3)\n",
    "\n",
    "# Union of sets\n",
    "s2 = {3, 4, 5, 6}\n",
    "union_set = s.union(s2)\n",
    "\n",
    "# Intersection of sets\n",
    "intersection_set = s.intersection(s2)\n",
    "\n",
    "# Difference of sets\n",
    "difference_set = s.difference(s2)\n",
    "\n",
    "print(\"Set after adding and removing:\", s)\n",
    "print(\"Union of sets:\", union_set)\n",
    "print(\"Intersection of sets:\", intersection_set)\n",
    "print(\"Difference of sets:\", difference_set)\n"
   ]
  },
  {
   "cell_type": "code",
   "execution_count": 2,
   "id": "58bf6c93",
   "metadata": {},
   "outputs": [
    {
     "name": "stdout",
     "output_type": "stream",
     "text": [
      "List after append and remove: [1, 3, 4, 5]\n",
      "Element at index 1: 3\n",
      "Sliced list: [3, 4]\n"
     ]
    }
   ],
   "source": [
    "# Create a list\n",
    "lst = [1, 2, 3, 4]\n",
    "\n",
    "# Append an element\n",
    "lst.append(5)\n",
    "\n",
    "# Remove an element\n",
    "lst.remove(2)\n",
    "\n",
    "# Access an element using index\n",
    "element = lst[1]  # 2nd element\n",
    "\n",
    "# Slicing the list\n",
    "sliced_list = lst[1:3]  # Elements from index 1 to 2\n",
    "\n",
    "print(\"List after append and remove:\", lst)\n",
    "print(\"Element at index 1:\", element)\n",
    "print(\"Sliced list:\", sliced_list)\n"
   ]
  },
  {
   "cell_type": "code",
   "execution_count": 3,
   "id": "6cf1423b",
   "metadata": {},
   "outputs": [
    {
     "name": "stdout",
     "output_type": "stream",
     "text": [
      "Tuple: (1, 2, 3, 4)\n",
      "Element at index 2: 3\n",
      "Sliced tuple: (2, 3)\n",
      "Concatenated tuple: (1, 2, 3, 4, 5, 6)\n"
     ]
    }
   ],
   "source": [
    "# Create a tuple\n",
    "t = (1, 2, 3, 4)\n",
    "\n",
    "# Access an element using index\n",
    "element = t[2]  # 3rd element\n",
    "\n",
    "# Slicing the tuple\n",
    "sliced_tuple = t[1:3]  # Elements from index 1 to 2\n",
    "\n",
    "# Concatenate tuples\n",
    "t2 = (5, 6)\n",
    "concatenated_tuple = t + t2\n",
    "\n",
    "print(\"Tuple:\", t)\n",
    "print(\"Element at index 2:\", element)\n",
    "print(\"Sliced tuple:\", sliced_tuple)\n",
    "print(\"Concatenated tuple:\", concatenated_tuple)\n"
   ]
  },
  {
   "cell_type": "code",
   "execution_count": 4,
   "id": "36238d1f",
   "metadata": {},
   "outputs": [
    {
     "name": "stdout",
     "output_type": "stream",
     "text": [
      "String: Hello, World!\n",
      "Character at index 7: W\n",
      "Sliced string: Hello\n",
      "Concatenated string: Hello, World! How are you?\n",
      "Length of string: 13\n"
     ]
    }
   ],
   "source": [
    "# Create a string\n",
    "s = \"Hello, World!\"\n",
    "\n",
    "# Access a character using index\n",
    "char = s[7]  # 8th character (index 7)\n",
    "\n",
    "# Slicing the string\n",
    "sliced_string = s[0:5]  # First 5 characters\n",
    "\n",
    "# String concatenation\n",
    "new_string = s + \" How are you?\"\n",
    "\n",
    "# String length\n",
    "length = len(s)\n",
    "\n",
    "print(\"String:\", s)\n",
    "print(\"Character at index 7:\", char)\n",
    "print(\"Sliced string:\", sliced_string)\n",
    "print(\"Concatenated string:\", new_string)\n",
    "print(\"Length of string:\", length)\n"
   ]
  },
  {
   "cell_type": "code",
   "execution_count": null,
   "id": "bce0b427",
   "metadata": {},
   "outputs": [],
   "source": []
  }
 ],
 "metadata": {
  "kernelspec": {
   "display_name": "Python 3 (ipykernel)",
   "language": "python",
   "name": "python3"
  },
  "language_info": {
   "codemirror_mode": {
    "name": "ipython",
    "version": 3
   },
   "file_extension": ".py",
   "mimetype": "text/x-python",
   "name": "python",
   "nbconvert_exporter": "python",
   "pygments_lexer": "ipython3",
   "version": "3.9.7"
  }
 },
 "nbformat": 4,
 "nbformat_minor": 5
}
