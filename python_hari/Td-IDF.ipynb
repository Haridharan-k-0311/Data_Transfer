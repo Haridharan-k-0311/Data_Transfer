{
 "cells": [
  {
   "cell_type": "raw",
   "id": "d723a3f6",
   "metadata": {},
   "source": [
    "pip install --upgrade scikit-learn"
   ]
  },
  {
   "cell_type": "raw",
   "id": "2ee37294",
   "metadata": {
    "scrolled": true
   },
   "source": [
    "pip install nltk"
   ]
  },
  {
   "cell_type": "code",
   "execution_count": 1,
   "id": "98034170-9a52-4049-bf6d-3ac5ab0a447b",
   "metadata": {},
   "outputs": [],
   "source": [
    "import nltk\n",
    "import string\n",
    "from sklearn.feature_extraction.text import TfidfVectorizer\n",
    "from nltk.corpus import stopwords\n",
    "from nltk.tokenize import word_tokenize\n",
    "from nltk.stem import WordNetLemmatizer"
   ]
  },
  {
   "cell_type": "code",
   "execution_count": null,
   "id": "e908cf59-9b54-4c19-a769-386326c8d125",
   "metadata": {
    "scrolled": true
   },
   "outputs": [],
   "source": [
    "# Download necessary NLTK resources\n",
    "nltk.download('punkt')"
   ]
  },
  {
   "cell_type": "code",
   "execution_count": null,
   "id": "063d7e02-b5bf-4a2c-9501-20a5929d879a",
   "metadata": {},
   "outputs": [],
   "source": [
    "# Download necessary NLTK resources\n",
    "nltk.download('punkt_tab')"
   ]
  },
  {
   "cell_type": "code",
   "execution_count": null,
   "id": "b6841c2b-0a97-45ec-9a85-3d13570a7207",
   "metadata": {},
   "outputs": [],
   "source": [
    "# Download necessary NLTK resources\n",
    "nltk.download('stopwords')"
   ]
  },
  {
   "cell_type": "code",
   "execution_count": null,
   "id": "d79df017-1020-4821-b4d0-7a58b48cb30e",
   "metadata": {},
   "outputs": [],
   "source": [
    "# Download necessary NLTK resources\n",
    "nltk.download('wordnet')"
   ]
  },
  {
   "cell_type": "code",
   "execution_count": null,
   "id": "99b8e6f4-42f7-41cb-99ef-597a270262b8",
   "metadata": {},
   "outputs": [],
   "source": [
    "# Initialize lemmatizer and stopwords\n",
    "lemmatizer = WordNetLemmatizer()\n",
    "stop_words = set(stopwords.words('english'))"
   ]
  },
  {
   "cell_type": "code",
   "execution_count": null,
   "id": "f551a6fe-ec0f-444e-a459-852a7b721d70",
   "metadata": {},
   "outputs": [],
   "source": [
    "# Function to preprocess text\n",
    "def preprocess_text(text):\n",
    "    # Convert to lowercase\n",
    "    text = text.lower()\n",
    "    \n",
    "    # Remove punctuation\n",
    "    text = text.translate(str.maketrans('', '', string.punctuation))\n",
    "    \n",
    "    # Tokenize text\n",
    "    tokens = word_tokenize(text)\n",
    "    \n",
    "    # Remove stopwords and lemmatize tokens\n",
    "    processed_tokens = [\n",
    "        lemmatizer.lemmatize(word) for word in tokens if word not in stop_words and word.isalpha()\n",
    "    ]\n",
    "    \n",
    "    # Join tokens back into a single string\n",
    "    return ' '.join(processed_tokens)"
   ]
  },
  {
   "cell_type": "code",
   "execution_count": null,
   "id": "22705c71-748c-498d-b98c-8d3452292712",
   "metadata": {},
   "outputs": [],
   "source": [
    "# Sample text data\n",
    "documents = [\n",
    "    \"The quick brown fox jumped over the lazy dog.\",\n",
    "    \"I love programming in Python, especially for data analysis.\",\n",
    "    \"Natural language processing is fascinating!\"\n",
    "]"
   ]
  },
  {
   "cell_type": "code",
   "execution_count": null,
   "id": "432807b3-7374-4608-b14c-570bd1c80027",
   "metadata": {},
   "outputs": [],
   "source": [
    "# Preprocess each document\n",
    "preprocessed_docs = [preprocess_text(doc) for doc in documents]"
   ]
  },
  {
   "cell_type": "code",
   "execution_count": null,
   "id": "fa346b99-ae81-4707-8488-260f757f6058",
   "metadata": {},
   "outputs": [],
   "source": [
    "# Initialize TF-IDF Vectorizer\n",
    "vectorizer = TfidfVectorizer()"
   ]
  },
  {
   "cell_type": "code",
   "execution_count": null,
   "id": "ce47e76d-d566-4777-8b0a-46b62f2d873a",
   "metadata": {},
   "outputs": [],
   "source": [
    "# Fit and transform the preprocessed text data\n",
    "tfidf_matrix = vectorizer.fit_transform(preprocessed_docs)"
   ]
  },
  {
   "cell_type": "code",
   "execution_count": null,
   "id": "6950b40c-a815-4ba3-9837-c588eeb06403",
   "metadata": {},
   "outputs": [],
   "source": [
    "# Convert the TF-IDF matrix to an array for better readability\n",
    "tfidf_array = tfidf_matrix.toarray()"
   ]
  },
  {
   "cell_type": "code",
   "execution_count": null,
   "id": "0c7b07d0-7a4b-4bfd-a08b-797149cc69c6",
   "metadata": {},
   "outputs": [],
   "source": [
    "# Get the feature names (vocabulary)\n",
    "feature_names = vectorizer.get_feature_names_out()"
   ]
  },
  {
   "cell_type": "code",
   "execution_count": null,
   "id": "846af467-1849-4085-9ce3-9ae90f1b6270",
   "metadata": {},
   "outputs": [],
   "source": [
    "# Print the TF-IDF matrix\n",
    "print(\"TF-IDF Matrix:\")\n",
    "for i, doc in enumerate(tfidf_array):\n",
    "    print(f\"\\nDocument {i + 1}:\")\n",
    "    for word, score in zip(feature_names, doc):\n",
    "        if score > 0:  # Only print words with non-zero TF-IDF scores\n",
    "            print(f\"{word}: {score}\")"
   ]
  },
  {
   "cell_type": "code",
   "execution_count": null,
   "id": "2f1f9747-5832-46a3-907a-3e140a01a779",
   "metadata": {},
   "outputs": [],
   "source": []
  }
 ],
 "metadata": {
  "kernelspec": {
   "display_name": "Python 3 (ipykernel)",
   "language": "python",
   "name": "python3"
  },
  "language_info": {
   "codemirror_mode": {
    "name": "ipython",
    "version": 3
   },
   "file_extension": ".py",
   "mimetype": "text/x-python",
   "name": "python",
   "nbconvert_exporter": "python",
   "pygments_lexer": "ipython3",
   "version": "3.9.7"
  }
 },
 "nbformat": 4,
 "nbformat_minor": 5
}
