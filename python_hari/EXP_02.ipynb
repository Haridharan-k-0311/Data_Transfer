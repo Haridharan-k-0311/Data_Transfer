{
 "cells": [
  {
   "cell_type": "code",
   "execution_count": 8,
   "id": "e5b89d80",
   "metadata": {},
   "outputs": [
    {
     "name": "stdout",
     "output_type": "stream",
     "text": [
      "{'name': 'John', 'age': 30}\n",
      "{'name': 'John', 'age': 30, 'place': 'Chennai'}\n",
      "already exists in dictionary\n"
     ]
    }
   ],
   "source": [
    "dic = {'name': 'John', 'age': 30}\n",
    "print(dic)\n",
    "dic['place'] = 'Chennai'\n",
    "print(dic)\n",
    "print('already exists in dictionary' if 'age' in dic else 'does not exist in dictionary ')"
   ]
  },
  {
   "cell_type": "code",
   "execution_count": null,
   "id": "4570d95a",
   "metadata": {},
   "outputs": [],
   "source": []
  }
 ],
 "metadata": {
  "kernelspec": {
   "display_name": "Python 3 (ipykernel)",
   "language": "python",
   "name": "python3"
  },
  "language_info": {
   "codemirror_mode": {
    "name": "ipython",
    "version": 3
   },
   "file_extension": ".py",
   "mimetype": "text/x-python",
   "name": "python",
   "nbconvert_exporter": "python",
   "pygments_lexer": "ipython3",
   "version": "3.9.7"
  }
 },
 "nbformat": 4,
 "nbformat_minor": 5
}
