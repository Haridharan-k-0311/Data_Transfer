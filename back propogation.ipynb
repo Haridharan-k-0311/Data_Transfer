{
 "cells": [
  {
   "cell_type": "code",
   "execution_count": 5,
   "id": "7617cb45-69fe-4818-863d-afacfe23cfde",
   "metadata": {},
   "outputs": [],
   "source": [
    "import pandas as pd\n",
    "import numpy as np"
   ]
  },
  {
   "cell_type": "code",
   "execution_count": 7,
   "id": "55b436f2-dced-459f-9ac5-939298151770",
   "metadata": {},
   "outputs": [],
   "source": [
    "def sigmoid(x):\n",
    "    return 1 / (1 + np.exp(-x))\n",
    "\n",
    "def sigmoid_derivative(x):\n",
    "    return x * (1 - x)"
   ]
  },
  {
   "cell_type": "code",
   "execution_count": 9,
   "id": "7244565c-1c0d-441a-ba29-b413616c1751",
   "metadata": {},
   "outputs": [],
   "source": [
    "X = np.array([[0, 0], [0, 1], [1, 0], [1, 1]])\n",
    "y = np.array([[0], [1], [1], [0]])"
   ]
  },
  {
   "cell_type": "code",
   "execution_count": 13,
   "id": "51beea26-1cfb-4f9d-b4c4-9c0cb785770e",
   "metadata": {},
   "outputs": [],
   "source": [
    "np.random.seed(1)"
   ]
  },
  {
   "cell_type": "code",
   "execution_count": 15,
   "id": "d9ac40d6-c96e-4a3e-91d6-df3ec943cf4f",
   "metadata": {},
   "outputs": [],
   "source": [
    "input_layer_neurons = X.shape[1]\n",
    "hidden_layer_neurons = 2\n",
    "output_neurons = 1"
   ]
  },
  {
   "cell_type": "code",
   "execution_count": 17,
   "id": "56b5a707-6ee5-4906-bfa4-07022543ea14",
   "metadata": {},
   "outputs": [],
   "source": [
    "W1 = np.random.uniform(size=(input_layer_neurons, hidden_layer_neurons))\n",
    "b1 = np.random.uniform(size=(1, hidden_layer_neurons))\n",
    "W2 = np.random.uniform(size=(hidden_layer_neurons, output_neurons))\n",
    "b2 = np.random.uniform(size=(1, output_neurons))"
   ]
  },
  {
   "cell_type": "code",
   "execution_count": null,
   "id": "ccef4d43-e188-4190-bac0-c9857d839359",
   "metadata": {},
   "outputs": [],
   "source": [
    "epochs = 10000\n",
    "learning_rate = 0.1"
   ]
  },
  {
   "cell_type": "code",
   "execution_count": 11,
   "id": "98fbe24b-8184-422c-93a5-b6f0222e8ddd",
   "metadata": {},
   "outputs": [
    {
     "name": "stdout",
     "output_type": "stream",
     "text": [
      "Final predicted output:\n",
      " [[0.06368082]\n",
      " [0.94085536]\n",
      " [0.94108726]\n",
      " [0.06402009]]\n"
     ]
    }
   ],
   "source": [
    "\n",
    "\n",
    "\n",
    "\n",
    "\n",
    "\n",
    "\n",
    "for epoch in range(epochs):\n",
    "    hidden_layer_input = np.dot(X, W1) + b1\n",
    "    hidden_layer_output = sigmoid(hidden_layer_input)\n",
    "    \n",
    "    output_layer_input = np.dot(hidden_layer_output, W2) + b2\n",
    "    predicted_output = sigmoid(output_layer_input)\n",
    "\n",
    "    error = y - predicted_output\n",
    "    d_predicted_output = error * sigmoid_derivative(predicted_output)\n",
    "    \n",
    "    error_hidden_layer = d_predicted_output.dot(W2.T)\n",
    "    d_hidden_layer = error_hidden_layer * sigmoid_derivative(hidden_layer_output)\n",
    "   \n",
    "    W2 += hidden_layer_output.T.dot(d_predicted_output) * learning_rate\n",
    "    b2 += np.sum(d_predicted_output, axis=0, keepdims=True) * learning_rate\n",
    "    W1 += X.T.dot(d_hidden_layer) * learning_rate\n",
    "    b1 += np.sum(d_hidden_layer, axis=0, keepdims=True) * learning_rate\n",
    "\n",
    "print(\"Final predicted output:\\n\", predicted_output)\n"
   ]
  },
  {
   "cell_type": "code",
   "execution_count": null,
   "id": "7935fc07-3892-47d7-8c1c-4380c24c85bc",
   "metadata": {},
   "outputs": [],
   "source": []
  }
 ],
 "metadata": {
  "kernelspec": {
   "display_name": "Python 3 (ipykernel)",
   "language": "python",
   "name": "python3"
  },
  "language_info": {
   "codemirror_mode": {
    "name": "ipython",
    "version": 3
   },
   "file_extension": ".py",
   "mimetype": "text/x-python",
   "name": "python",
   "nbconvert_exporter": "python",
   "pygments_lexer": "ipython3",
   "version": "3.12.4"
  }
 },
 "nbformat": 4,
 "nbformat_minor": 5
}
