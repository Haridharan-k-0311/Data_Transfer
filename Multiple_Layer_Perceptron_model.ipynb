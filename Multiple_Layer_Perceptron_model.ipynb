{
  "nbformat": 4,
  "nbformat_minor": 0,
  "metadata": {
    "colab": {
      "provenance": []
    },
    "kernelspec": {
      "name": "python3",
      "display_name": "Python 3"
    },
    "language_info": {
      "name": "python"
    }
  },
  "cells": [
    {
      "cell_type": "code",
      "execution_count": null,
      "metadata": {
        "id": "oB-B8V0VFg6R"
      },
      "outputs": [],
      "source": [
        "import numpy as np"
      ]
    },
    {
      "cell_type": "code",
      "source": [
        "from numpy import argmax"
      ],
      "metadata": {
        "id": "l_-mDN1dFn_O"
      },
      "execution_count": null,
      "outputs": []
    },
    {
      "cell_type": "code",
      "source": [
        "import pandas as pd"
      ],
      "metadata": {
        "id": "1LOxkLMdFuaN"
      },
      "execution_count": null,
      "outputs": []
    },
    {
      "cell_type": "code",
      "source": [
        "from sklearn.datasets import load_iris"
      ],
      "metadata": {
        "id": "HihVQySDHNmE"
      },
      "execution_count": null,
      "outputs": []
    },
    {
      "cell_type": "code",
      "source": [
        "from sklearn.model_selection import train_test_split"
      ],
      "metadata": {
        "id": "X7H3xRTrHiXM"
      },
      "execution_count": null,
      "outputs": []
    },
    {
      "cell_type": "code",
      "source": [
        "from tensorflow.keras import Sequential\n",
        "from tensorflow.keras.layers import Dense"
      ],
      "metadata": {
        "id": "UXNybNbcHrPL"
      },
      "execution_count": null,
      "outputs": []
    },
    {
      "cell_type": "code",
      "source": [
        "iris = load_iris()"
      ],
      "metadata": {
        "id": "Ar6EIqXBH7BV"
      },
      "execution_count": null,
      "outputs": []
    },
    {
      "cell_type": "code",
      "source": [
        "iris"
      ],
      "metadata": {
        "colab": {
          "base_uri": "https://localhost:8080/"
        },
        "id": "Fl0XQUV7IPdq",
        "outputId": "178e8e18-3ab5-452b-ad6d-2957ea146f9f"
      },
      "execution_count": null,
      "outputs": [
        {
          "output_type": "execute_result",
          "data": {
            "text/plain": [
              "{'data': array([[5.1, 3.5, 1.4, 0.2],\n",
              "        [4.9, 3. , 1.4, 0.2],\n",
              "        [4.7, 3.2, 1.3, 0.2],\n",
              "        [4.6, 3.1, 1.5, 0.2],\n",
              "        [5. , 3.6, 1.4, 0.2],\n",
              "        [5.4, 3.9, 1.7, 0.4],\n",
              "        [4.6, 3.4, 1.4, 0.3],\n",
              "        [5. , 3.4, 1.5, 0.2],\n",
              "        [4.4, 2.9, 1.4, 0.2],\n",
              "        [4.9, 3.1, 1.5, 0.1],\n",
              "        [5.4, 3.7, 1.5, 0.2],\n",
              "        [4.8, 3.4, 1.6, 0.2],\n",
              "        [4.8, 3. , 1.4, 0.1],\n",
              "        [4.3, 3. , 1.1, 0.1],\n",
              "        [5.8, 4. , 1.2, 0.2],\n",
              "        [5.7, 4.4, 1.5, 0.4],\n",
              "        [5.4, 3.9, 1.3, 0.4],\n",
              "        [5.1, 3.5, 1.4, 0.3],\n",
              "        [5.7, 3.8, 1.7, 0.3],\n",
              "        [5.1, 3.8, 1.5, 0.3],\n",
              "        [5.4, 3.4, 1.7, 0.2],\n",
              "        [5.1, 3.7, 1.5, 0.4],\n",
              "        [4.6, 3.6, 1. , 0.2],\n",
              "        [5.1, 3.3, 1.7, 0.5],\n",
              "        [4.8, 3.4, 1.9, 0.2],\n",
              "        [5. , 3. , 1.6, 0.2],\n",
              "        [5. , 3.4, 1.6, 0.4],\n",
              "        [5.2, 3.5, 1.5, 0.2],\n",
              "        [5.2, 3.4, 1.4, 0.2],\n",
              "        [4.7, 3.2, 1.6, 0.2],\n",
              "        [4.8, 3.1, 1.6, 0.2],\n",
              "        [5.4, 3.4, 1.5, 0.4],\n",
              "        [5.2, 4.1, 1.5, 0.1],\n",
              "        [5.5, 4.2, 1.4, 0.2],\n",
              "        [4.9, 3.1, 1.5, 0.2],\n",
              "        [5. , 3.2, 1.2, 0.2],\n",
              "        [5.5, 3.5, 1.3, 0.2],\n",
              "        [4.9, 3.6, 1.4, 0.1],\n",
              "        [4.4, 3. , 1.3, 0.2],\n",
              "        [5.1, 3.4, 1.5, 0.2],\n",
              "        [5. , 3.5, 1.3, 0.3],\n",
              "        [4.5, 2.3, 1.3, 0.3],\n",
              "        [4.4, 3.2, 1.3, 0.2],\n",
              "        [5. , 3.5, 1.6, 0.6],\n",
              "        [5.1, 3.8, 1.9, 0.4],\n",
              "        [4.8, 3. , 1.4, 0.3],\n",
              "        [5.1, 3.8, 1.6, 0.2],\n",
              "        [4.6, 3.2, 1.4, 0.2],\n",
              "        [5.3, 3.7, 1.5, 0.2],\n",
              "        [5. , 3.3, 1.4, 0.2],\n",
              "        [7. , 3.2, 4.7, 1.4],\n",
              "        [6.4, 3.2, 4.5, 1.5],\n",
              "        [6.9, 3.1, 4.9, 1.5],\n",
              "        [5.5, 2.3, 4. , 1.3],\n",
              "        [6.5, 2.8, 4.6, 1.5],\n",
              "        [5.7, 2.8, 4.5, 1.3],\n",
              "        [6.3, 3.3, 4.7, 1.6],\n",
              "        [4.9, 2.4, 3.3, 1. ],\n",
              "        [6.6, 2.9, 4.6, 1.3],\n",
              "        [5.2, 2.7, 3.9, 1.4],\n",
              "        [5. , 2. , 3.5, 1. ],\n",
              "        [5.9, 3. , 4.2, 1.5],\n",
              "        [6. , 2.2, 4. , 1. ],\n",
              "        [6.1, 2.9, 4.7, 1.4],\n",
              "        [5.6, 2.9, 3.6, 1.3],\n",
              "        [6.7, 3.1, 4.4, 1.4],\n",
              "        [5.6, 3. , 4.5, 1.5],\n",
              "        [5.8, 2.7, 4.1, 1. ],\n",
              "        [6.2, 2.2, 4.5, 1.5],\n",
              "        [5.6, 2.5, 3.9, 1.1],\n",
              "        [5.9, 3.2, 4.8, 1.8],\n",
              "        [6.1, 2.8, 4. , 1.3],\n",
              "        [6.3, 2.5, 4.9, 1.5],\n",
              "        [6.1, 2.8, 4.7, 1.2],\n",
              "        [6.4, 2.9, 4.3, 1.3],\n",
              "        [6.6, 3. , 4.4, 1.4],\n",
              "        [6.8, 2.8, 4.8, 1.4],\n",
              "        [6.7, 3. , 5. , 1.7],\n",
              "        [6. , 2.9, 4.5, 1.5],\n",
              "        [5.7, 2.6, 3.5, 1. ],\n",
              "        [5.5, 2.4, 3.8, 1.1],\n",
              "        [5.5, 2.4, 3.7, 1. ],\n",
              "        [5.8, 2.7, 3.9, 1.2],\n",
              "        [6. , 2.7, 5.1, 1.6],\n",
              "        [5.4, 3. , 4.5, 1.5],\n",
              "        [6. , 3.4, 4.5, 1.6],\n",
              "        [6.7, 3.1, 4.7, 1.5],\n",
              "        [6.3, 2.3, 4.4, 1.3],\n",
              "        [5.6, 3. , 4.1, 1.3],\n",
              "        [5.5, 2.5, 4. , 1.3],\n",
              "        [5.5, 2.6, 4.4, 1.2],\n",
              "        [6.1, 3. , 4.6, 1.4],\n",
              "        [5.8, 2.6, 4. , 1.2],\n",
              "        [5. , 2.3, 3.3, 1. ],\n",
              "        [5.6, 2.7, 4.2, 1.3],\n",
              "        [5.7, 3. , 4.2, 1.2],\n",
              "        [5.7, 2.9, 4.2, 1.3],\n",
              "        [6.2, 2.9, 4.3, 1.3],\n",
              "        [5.1, 2.5, 3. , 1.1],\n",
              "        [5.7, 2.8, 4.1, 1.3],\n",
              "        [6.3, 3.3, 6. , 2.5],\n",
              "        [5.8, 2.7, 5.1, 1.9],\n",
              "        [7.1, 3. , 5.9, 2.1],\n",
              "        [6.3, 2.9, 5.6, 1.8],\n",
              "        [6.5, 3. , 5.8, 2.2],\n",
              "        [7.6, 3. , 6.6, 2.1],\n",
              "        [4.9, 2.5, 4.5, 1.7],\n",
              "        [7.3, 2.9, 6.3, 1.8],\n",
              "        [6.7, 2.5, 5.8, 1.8],\n",
              "        [7.2, 3.6, 6.1, 2.5],\n",
              "        [6.5, 3.2, 5.1, 2. ],\n",
              "        [6.4, 2.7, 5.3, 1.9],\n",
              "        [6.8, 3. , 5.5, 2.1],\n",
              "        [5.7, 2.5, 5. , 2. ],\n",
              "        [5.8, 2.8, 5.1, 2.4],\n",
              "        [6.4, 3.2, 5.3, 2.3],\n",
              "        [6.5, 3. , 5.5, 1.8],\n",
              "        [7.7, 3.8, 6.7, 2.2],\n",
              "        [7.7, 2.6, 6.9, 2.3],\n",
              "        [6. , 2.2, 5. , 1.5],\n",
              "        [6.9, 3.2, 5.7, 2.3],\n",
              "        [5.6, 2.8, 4.9, 2. ],\n",
              "        [7.7, 2.8, 6.7, 2. ],\n",
              "        [6.3, 2.7, 4.9, 1.8],\n",
              "        [6.7, 3.3, 5.7, 2.1],\n",
              "        [7.2, 3.2, 6. , 1.8],\n",
              "        [6.2, 2.8, 4.8, 1.8],\n",
              "        [6.1, 3. , 4.9, 1.8],\n",
              "        [6.4, 2.8, 5.6, 2.1],\n",
              "        [7.2, 3. , 5.8, 1.6],\n",
              "        [7.4, 2.8, 6.1, 1.9],\n",
              "        [7.9, 3.8, 6.4, 2. ],\n",
              "        [6.4, 2.8, 5.6, 2.2],\n",
              "        [6.3, 2.8, 5.1, 1.5],\n",
              "        [6.1, 2.6, 5.6, 1.4],\n",
              "        [7.7, 3. , 6.1, 2.3],\n",
              "        [6.3, 3.4, 5.6, 2.4],\n",
              "        [6.4, 3.1, 5.5, 1.8],\n",
              "        [6. , 3. , 4.8, 1.8],\n",
              "        [6.9, 3.1, 5.4, 2.1],\n",
              "        [6.7, 3.1, 5.6, 2.4],\n",
              "        [6.9, 3.1, 5.1, 2.3],\n",
              "        [5.8, 2.7, 5.1, 1.9],\n",
              "        [6.8, 3.2, 5.9, 2.3],\n",
              "        [6.7, 3.3, 5.7, 2.5],\n",
              "        [6.7, 3. , 5.2, 2.3],\n",
              "        [6.3, 2.5, 5. , 1.9],\n",
              "        [6.5, 3. , 5.2, 2. ],\n",
              "        [6.2, 3.4, 5.4, 2.3],\n",
              "        [5.9, 3. , 5.1, 1.8]]),\n",
              " 'target': array([0, 0, 0, 0, 0, 0, 0, 0, 0, 0, 0, 0, 0, 0, 0, 0, 0, 0, 0, 0, 0, 0,\n",
              "        0, 0, 0, 0, 0, 0, 0, 0, 0, 0, 0, 0, 0, 0, 0, 0, 0, 0, 0, 0, 0, 0,\n",
              "        0, 0, 0, 0, 0, 0, 1, 1, 1, 1, 1, 1, 1, 1, 1, 1, 1, 1, 1, 1, 1, 1,\n",
              "        1, 1, 1, 1, 1, 1, 1, 1, 1, 1, 1, 1, 1, 1, 1, 1, 1, 1, 1, 1, 1, 1,\n",
              "        1, 1, 1, 1, 1, 1, 1, 1, 1, 1, 1, 1, 2, 2, 2, 2, 2, 2, 2, 2, 2, 2,\n",
              "        2, 2, 2, 2, 2, 2, 2, 2, 2, 2, 2, 2, 2, 2, 2, 2, 2, 2, 2, 2, 2, 2,\n",
              "        2, 2, 2, 2, 2, 2, 2, 2, 2, 2, 2, 2, 2, 2, 2, 2, 2, 2]),\n",
              " 'frame': None,\n",
              " 'target_names': array(['setosa', 'versicolor', 'virginica'], dtype='<U10'),\n",
              " 'DESCR': '.. _iris_dataset:\\n\\nIris plants dataset\\n--------------------\\n\\n**Data Set Characteristics:**\\n\\n    :Number of Instances: 150 (50 in each of three classes)\\n    :Number of Attributes: 4 numeric, predictive attributes and the class\\n    :Attribute Information:\\n        - sepal length in cm\\n        - sepal width in cm\\n        - petal length in cm\\n        - petal width in cm\\n        - class:\\n                - Iris-Setosa\\n                - Iris-Versicolour\\n                - Iris-Virginica\\n                \\n    :Summary Statistics:\\n\\n    ============== ==== ==== ======= ===== ====================\\n                    Min  Max   Mean    SD   Class Correlation\\n    ============== ==== ==== ======= ===== ====================\\n    sepal length:   4.3  7.9   5.84   0.83    0.7826\\n    sepal width:    2.0  4.4   3.05   0.43   -0.4194\\n    petal length:   1.0  6.9   3.76   1.76    0.9490  (high!)\\n    petal width:    0.1  2.5   1.20   0.76    0.9565  (high!)\\n    ============== ==== ==== ======= ===== ====================\\n\\n    :Missing Attribute Values: None\\n    :Class Distribution: 33.3% for each of 3 classes.\\n    :Creator: R.A. Fisher\\n    :Donor: Michael Marshall (MARSHALL%PLU@io.arc.nasa.gov)\\n    :Date: July, 1988\\n\\nThe famous Iris database, first used by Sir R.A. Fisher. The dataset is taken\\nfrom Fisher\\'s paper. Note that it\\'s the same as in R, but not as in the UCI\\nMachine Learning Repository, which has two wrong data points.\\n\\nThis is perhaps the best known database to be found in the\\npattern recognition literature.  Fisher\\'s paper is a classic in the field and\\nis referenced frequently to this day.  (See Duda & Hart, for example.)  The\\ndata set contains 3 classes of 50 instances each, where each class refers to a\\ntype of iris plant.  One class is linearly separable from the other 2; the\\nlatter are NOT linearly separable from each other.\\n\\n.. topic:: References\\n\\n   - Fisher, R.A. \"The use of multiple measurements in taxonomic problems\"\\n     Annual Eugenics, 7, Part II, 179-188 (1936); also in \"Contributions to\\n     Mathematical Statistics\" (John Wiley, NY, 1950).\\n   - Duda, R.O., & Hart, P.E. (1973) Pattern Classification and Scene Analysis.\\n     (Q327.D83) John Wiley & Sons.  ISBN 0-471-22361-1.  See page 218.\\n   - Dasarathy, B.V. (1980) \"Nosing Around the Neighborhood: A New System\\n     Structure and Classification Rule for Recognition in Partially Exposed\\n     Environments\".  IEEE Transactions on Pattern Analysis and Machine\\n     Intelligence, Vol. PAMI-2, No. 1, 67-71.\\n   - Gates, G.W. (1972) \"The Reduced Nearest Neighbor Rule\".  IEEE Transactions\\n     on Information Theory, May 1972, 431-433.\\n   - See also: 1988 MLC Proceedings, 54-64.  Cheeseman et al\"s AUTOCLASS II\\n     conceptual clustering system finds 3 classes in the data.\\n   - Many, many more ...',\n",
              " 'feature_names': ['sepal length (cm)',\n",
              "  'sepal width (cm)',\n",
              "  'petal length (cm)',\n",
              "  'petal width (cm)'],\n",
              " 'filename': 'iris.csv',\n",
              " 'data_module': 'sklearn.datasets.data'}"
            ]
          },
          "metadata": {},
          "execution_count": 8
        }
      ]
    },
    {
      "cell_type": "code",
      "source": [
        "x = iris.data[:, :].astype('float32')\n",
        "y = iris.target"
      ],
      "metadata": {
        "id": "j-bwY-noIT-6"
      },
      "execution_count": null,
      "outputs": []
    },
    {
      "cell_type": "code",
      "source": [
        "x\n",
        "\n"
      ],
      "metadata": {
        "colab": {
          "base_uri": "https://localhost:8080/"
        },
        "id": "urglNioJI9rr",
        "outputId": "b19f32c2-b655-4ad0-c5ff-28029f070dbe"
      },
      "execution_count": null,
      "outputs": [
        {
          "output_type": "execute_result",
          "data": {
            "text/plain": [
              "array([[5.1, 3.5, 1.4, 0.2],\n",
              "       [4.9, 3. , 1.4, 0.2],\n",
              "       [4.7, 3.2, 1.3, 0.2],\n",
              "       [4.6, 3.1, 1.5, 0.2],\n",
              "       [5. , 3.6, 1.4, 0.2],\n",
              "       [5.4, 3.9, 1.7, 0.4],\n",
              "       [4.6, 3.4, 1.4, 0.3],\n",
              "       [5. , 3.4, 1.5, 0.2],\n",
              "       [4.4, 2.9, 1.4, 0.2],\n",
              "       [4.9, 3.1, 1.5, 0.1],\n",
              "       [5.4, 3.7, 1.5, 0.2],\n",
              "       [4.8, 3.4, 1.6, 0.2],\n",
              "       [4.8, 3. , 1.4, 0.1],\n",
              "       [4.3, 3. , 1.1, 0.1],\n",
              "       [5.8, 4. , 1.2, 0.2],\n",
              "       [5.7, 4.4, 1.5, 0.4],\n",
              "       [5.4, 3.9, 1.3, 0.4],\n",
              "       [5.1, 3.5, 1.4, 0.3],\n",
              "       [5.7, 3.8, 1.7, 0.3],\n",
              "       [5.1, 3.8, 1.5, 0.3],\n",
              "       [5.4, 3.4, 1.7, 0.2],\n",
              "       [5.1, 3.7, 1.5, 0.4],\n",
              "       [4.6, 3.6, 1. , 0.2],\n",
              "       [5.1, 3.3, 1.7, 0.5],\n",
              "       [4.8, 3.4, 1.9, 0.2],\n",
              "       [5. , 3. , 1.6, 0.2],\n",
              "       [5. , 3.4, 1.6, 0.4],\n",
              "       [5.2, 3.5, 1.5, 0.2],\n",
              "       [5.2, 3.4, 1.4, 0.2],\n",
              "       [4.7, 3.2, 1.6, 0.2],\n",
              "       [4.8, 3.1, 1.6, 0.2],\n",
              "       [5.4, 3.4, 1.5, 0.4],\n",
              "       [5.2, 4.1, 1.5, 0.1],\n",
              "       [5.5, 4.2, 1.4, 0.2],\n",
              "       [4.9, 3.1, 1.5, 0.2],\n",
              "       [5. , 3.2, 1.2, 0.2],\n",
              "       [5.5, 3.5, 1.3, 0.2],\n",
              "       [4.9, 3.6, 1.4, 0.1],\n",
              "       [4.4, 3. , 1.3, 0.2],\n",
              "       [5.1, 3.4, 1.5, 0.2],\n",
              "       [5. , 3.5, 1.3, 0.3],\n",
              "       [4.5, 2.3, 1.3, 0.3],\n",
              "       [4.4, 3.2, 1.3, 0.2],\n",
              "       [5. , 3.5, 1.6, 0.6],\n",
              "       [5.1, 3.8, 1.9, 0.4],\n",
              "       [4.8, 3. , 1.4, 0.3],\n",
              "       [5.1, 3.8, 1.6, 0.2],\n",
              "       [4.6, 3.2, 1.4, 0.2],\n",
              "       [5.3, 3.7, 1.5, 0.2],\n",
              "       [5. , 3.3, 1.4, 0.2],\n",
              "       [7. , 3.2, 4.7, 1.4],\n",
              "       [6.4, 3.2, 4.5, 1.5],\n",
              "       [6.9, 3.1, 4.9, 1.5],\n",
              "       [5.5, 2.3, 4. , 1.3],\n",
              "       [6.5, 2.8, 4.6, 1.5],\n",
              "       [5.7, 2.8, 4.5, 1.3],\n",
              "       [6.3, 3.3, 4.7, 1.6],\n",
              "       [4.9, 2.4, 3.3, 1. ],\n",
              "       [6.6, 2.9, 4.6, 1.3],\n",
              "       [5.2, 2.7, 3.9, 1.4],\n",
              "       [5. , 2. , 3.5, 1. ],\n",
              "       [5.9, 3. , 4.2, 1.5],\n",
              "       [6. , 2.2, 4. , 1. ],\n",
              "       [6.1, 2.9, 4.7, 1.4],\n",
              "       [5.6, 2.9, 3.6, 1.3],\n",
              "       [6.7, 3.1, 4.4, 1.4],\n",
              "       [5.6, 3. , 4.5, 1.5],\n",
              "       [5.8, 2.7, 4.1, 1. ],\n",
              "       [6.2, 2.2, 4.5, 1.5],\n",
              "       [5.6, 2.5, 3.9, 1.1],\n",
              "       [5.9, 3.2, 4.8, 1.8],\n",
              "       [6.1, 2.8, 4. , 1.3],\n",
              "       [6.3, 2.5, 4.9, 1.5],\n",
              "       [6.1, 2.8, 4.7, 1.2],\n",
              "       [6.4, 2.9, 4.3, 1.3],\n",
              "       [6.6, 3. , 4.4, 1.4],\n",
              "       [6.8, 2.8, 4.8, 1.4],\n",
              "       [6.7, 3. , 5. , 1.7],\n",
              "       [6. , 2.9, 4.5, 1.5],\n",
              "       [5.7, 2.6, 3.5, 1. ],\n",
              "       [5.5, 2.4, 3.8, 1.1],\n",
              "       [5.5, 2.4, 3.7, 1. ],\n",
              "       [5.8, 2.7, 3.9, 1.2],\n",
              "       [6. , 2.7, 5.1, 1.6],\n",
              "       [5.4, 3. , 4.5, 1.5],\n",
              "       [6. , 3.4, 4.5, 1.6],\n",
              "       [6.7, 3.1, 4.7, 1.5],\n",
              "       [6.3, 2.3, 4.4, 1.3],\n",
              "       [5.6, 3. , 4.1, 1.3],\n",
              "       [5.5, 2.5, 4. , 1.3],\n",
              "       [5.5, 2.6, 4.4, 1.2],\n",
              "       [6.1, 3. , 4.6, 1.4],\n",
              "       [5.8, 2.6, 4. , 1.2],\n",
              "       [5. , 2.3, 3.3, 1. ],\n",
              "       [5.6, 2.7, 4.2, 1.3],\n",
              "       [5.7, 3. , 4.2, 1.2],\n",
              "       [5.7, 2.9, 4.2, 1.3],\n",
              "       [6.2, 2.9, 4.3, 1.3],\n",
              "       [5.1, 2.5, 3. , 1.1],\n",
              "       [5.7, 2.8, 4.1, 1.3],\n",
              "       [6.3, 3.3, 6. , 2.5],\n",
              "       [5.8, 2.7, 5.1, 1.9],\n",
              "       [7.1, 3. , 5.9, 2.1],\n",
              "       [6.3, 2.9, 5.6, 1.8],\n",
              "       [6.5, 3. , 5.8, 2.2],\n",
              "       [7.6, 3. , 6.6, 2.1],\n",
              "       [4.9, 2.5, 4.5, 1.7],\n",
              "       [7.3, 2.9, 6.3, 1.8],\n",
              "       [6.7, 2.5, 5.8, 1.8],\n",
              "       [7.2, 3.6, 6.1, 2.5],\n",
              "       [6.5, 3.2, 5.1, 2. ],\n",
              "       [6.4, 2.7, 5.3, 1.9],\n",
              "       [6.8, 3. , 5.5, 2.1],\n",
              "       [5.7, 2.5, 5. , 2. ],\n",
              "       [5.8, 2.8, 5.1, 2.4],\n",
              "       [6.4, 3.2, 5.3, 2.3],\n",
              "       [6.5, 3. , 5.5, 1.8],\n",
              "       [7.7, 3.8, 6.7, 2.2],\n",
              "       [7.7, 2.6, 6.9, 2.3],\n",
              "       [6. , 2.2, 5. , 1.5],\n",
              "       [6.9, 3.2, 5.7, 2.3],\n",
              "       [5.6, 2.8, 4.9, 2. ],\n",
              "       [7.7, 2.8, 6.7, 2. ],\n",
              "       [6.3, 2.7, 4.9, 1.8],\n",
              "       [6.7, 3.3, 5.7, 2.1],\n",
              "       [7.2, 3.2, 6. , 1.8],\n",
              "       [6.2, 2.8, 4.8, 1.8],\n",
              "       [6.1, 3. , 4.9, 1.8],\n",
              "       [6.4, 2.8, 5.6, 2.1],\n",
              "       [7.2, 3. , 5.8, 1.6],\n",
              "       [7.4, 2.8, 6.1, 1.9],\n",
              "       [7.9, 3.8, 6.4, 2. ],\n",
              "       [6.4, 2.8, 5.6, 2.2],\n",
              "       [6.3, 2.8, 5.1, 1.5],\n",
              "       [6.1, 2.6, 5.6, 1.4],\n",
              "       [7.7, 3. , 6.1, 2.3],\n",
              "       [6.3, 3.4, 5.6, 2.4],\n",
              "       [6.4, 3.1, 5.5, 1.8],\n",
              "       [6. , 3. , 4.8, 1.8],\n",
              "       [6.9, 3.1, 5.4, 2.1],\n",
              "       [6.7, 3.1, 5.6, 2.4],\n",
              "       [6.9, 3.1, 5.1, 2.3],\n",
              "       [5.8, 2.7, 5.1, 1.9],\n",
              "       [6.8, 3.2, 5.9, 2.3],\n",
              "       [6.7, 3.3, 5.7, 2.5],\n",
              "       [6.7, 3. , 5.2, 2.3],\n",
              "       [6.3, 2.5, 5. , 1.9],\n",
              "       [6.5, 3. , 5.2, 2. ],\n",
              "       [6.2, 3.4, 5.4, 2.3],\n",
              "       [5.9, 3. , 5.1, 1.8]], dtype=float32)"
            ]
          },
          "metadata": {},
          "execution_count": 11
        }
      ]
    },
    {
      "cell_type": "code",
      "source": [
        "y"
      ],
      "metadata": {
        "colab": {
          "base_uri": "https://localhost:8080/"
        },
        "id": "YgBAm_dIJA9Z",
        "outputId": "77eb5c86-8361-4c73-e8bf-85813a02548b"
      },
      "execution_count": null,
      "outputs": [
        {
          "output_type": "execute_result",
          "data": {
            "text/plain": [
              "array([0, 0, 0, 0, 0, 0, 0, 0, 0, 0, 0, 0, 0, 0, 0, 0, 0, 0, 0, 0, 0, 0,\n",
              "       0, 0, 0, 0, 0, 0, 0, 0, 0, 0, 0, 0, 0, 0, 0, 0, 0, 0, 0, 0, 0, 0,\n",
              "       0, 0, 0, 0, 0, 0, 1, 1, 1, 1, 1, 1, 1, 1, 1, 1, 1, 1, 1, 1, 1, 1,\n",
              "       1, 1, 1, 1, 1, 1, 1, 1, 1, 1, 1, 1, 1, 1, 1, 1, 1, 1, 1, 1, 1, 1,\n",
              "       1, 1, 1, 1, 1, 1, 1, 1, 1, 1, 1, 1, 2, 2, 2, 2, 2, 2, 2, 2, 2, 2,\n",
              "       2, 2, 2, 2, 2, 2, 2, 2, 2, 2, 2, 2, 2, 2, 2, 2, 2, 2, 2, 2, 2, 2,\n",
              "       2, 2, 2, 2, 2, 2, 2, 2, 2, 2, 2, 2, 2, 2, 2, 2, 2, 2])"
            ]
          },
          "metadata": {},
          "execution_count": 12
        }
      ]
    },
    {
      "cell_type": "code",
      "source": [
        "x_train, x_test ,y_train ,y_test = train_test_split(x,y ,test_size = 0.25)"
      ],
      "metadata": {
        "id": "HnKnmIh7JE0S"
      },
      "execution_count": null,
      "outputs": []
    },
    {
      "cell_type": "code",
      "source": [
        "n_features = x_train.shape[1]\n",
        "print('Number of features : ',n_features)"
      ],
      "metadata": {
        "colab": {
          "base_uri": "https://localhost:8080/"
        },
        "id": "pfoxhv5zJqog",
        "outputId": "12076eac-0139-48a4-fcfa-5f047daee046"
      },
      "execution_count": null,
      "outputs": [
        {
          "output_type": "stream",
          "name": "stdout",
          "text": [
            "Number of features :  4\n"
          ]
        }
      ]
    },
    {
      "cell_type": "code",
      "source": [
        "model = Sequential()"
      ],
      "metadata": {
        "id": "3fjP_v3-KKl4"
      },
      "execution_count": null,
      "outputs": []
    },
    {
      "cell_type": "code",
      "source": [
        "model.add(Dense(10 , activation ='relu', kernel_initializer = 'he_normal',input_shape =(n_features ,)))\n",
        "model.add(Dense(8, activation ='relu',kernel_initializer='he_normal'))\n",
        "model.add(Dense(3, activation = 'softmax'))"
      ],
      "metadata": {
        "id": "C1N8jQwEKXjA"
      },
      "execution_count": null,
      "outputs": []
    },
    {
      "cell_type": "code",
      "source": [
        "model.compile(optimizer ='adam',loss = 'sparse_categorical_crossentropy' , metrics =['accuracy'])"
      ],
      "metadata": {
        "id": "-pv6-yNdLazw"
      },
      "execution_count": null,
      "outputs": []
    },
    {
      "cell_type": "code",
      "source": [
        "model.fit(x_train,y_train,epochs=150,batch_size=32)"
      ],
      "metadata": {
        "colab": {
          "base_uri": "https://localhost:8080/"
        },
        "id": "XdIp0gakOLAW",
        "outputId": "b526fc44-c9e3-40e2-e4d9-4116391badc9"
      },
      "execution_count": null,
      "outputs": [
        {
          "output_type": "stream",
          "name": "stdout",
          "text": [
            "Epoch 1/150\n",
            "4/4 [==============================] - 0s 5ms/step - loss: 0.2993 - accuracy: 0.8839\n",
            "Epoch 2/150\n",
            "4/4 [==============================] - 0s 5ms/step - loss: 0.2941 - accuracy: 0.8839\n",
            "Epoch 3/150\n",
            "4/4 [==============================] - 0s 6ms/step - loss: 0.2909 - accuracy: 0.9018\n",
            "Epoch 4/150\n",
            "4/4 [==============================] - 0s 5ms/step - loss: 0.2848 - accuracy: 0.9018\n",
            "Epoch 5/150\n",
            "4/4 [==============================] - 0s 6ms/step - loss: 0.2813 - accuracy: 0.8929\n",
            "Epoch 6/150\n",
            "4/4 [==============================] - 0s 6ms/step - loss: 0.2786 - accuracy: 0.9018\n",
            "Epoch 7/150\n",
            "4/4 [==============================] - 0s 5ms/step - loss: 0.2780 - accuracy: 0.9018\n",
            "Epoch 8/150\n",
            "4/4 [==============================] - 0s 4ms/step - loss: 0.2699 - accuracy: 0.9107\n",
            "Epoch 9/150\n",
            "4/4 [==============================] - 0s 4ms/step - loss: 0.2642 - accuracy: 0.9107\n",
            "Epoch 10/150\n",
            "4/4 [==============================] - 0s 4ms/step - loss: 0.2594 - accuracy: 0.9018\n",
            "Epoch 11/150\n",
            "4/4 [==============================] - 0s 4ms/step - loss: 0.2561 - accuracy: 0.9018\n",
            "Epoch 12/150\n",
            "4/4 [==============================] - 0s 4ms/step - loss: 0.2519 - accuracy: 0.9018\n",
            "Epoch 13/150\n",
            "4/4 [==============================] - 0s 4ms/step - loss: 0.2478 - accuracy: 0.9286\n",
            "Epoch 14/150\n",
            "4/4 [==============================] - 0s 4ms/step - loss: 0.2455 - accuracy: 0.9286\n",
            "Epoch 15/150\n",
            "4/4 [==============================] - 0s 4ms/step - loss: 0.2411 - accuracy: 0.9107\n",
            "Epoch 16/150\n",
            "4/4 [==============================] - 0s 4ms/step - loss: 0.2378 - accuracy: 0.9107\n",
            "Epoch 17/150\n",
            "4/4 [==============================] - 0s 4ms/step - loss: 0.2365 - accuracy: 0.9196\n",
            "Epoch 18/150\n",
            "4/4 [==============================] - 0s 4ms/step - loss: 0.2313 - accuracy: 0.9286\n",
            "Epoch 19/150\n",
            "4/4 [==============================] - 0s 4ms/step - loss: 0.2292 - accuracy: 0.9018\n",
            "Epoch 20/150\n",
            "4/4 [==============================] - 0s 4ms/step - loss: 0.2261 - accuracy: 0.9196\n",
            "Epoch 21/150\n",
            "4/4 [==============================] - 0s 4ms/step - loss: 0.2280 - accuracy: 0.9375\n",
            "Epoch 22/150\n",
            "4/4 [==============================] - 0s 5ms/step - loss: 0.2230 - accuracy: 0.9107\n",
            "Epoch 23/150\n",
            "4/4 [==============================] - 0s 4ms/step - loss: 0.2206 - accuracy: 0.9018\n",
            "Epoch 24/150\n",
            "4/4 [==============================] - 0s 5ms/step - loss: 0.2174 - accuracy: 0.9107\n",
            "Epoch 25/150\n",
            "4/4 [==============================] - 0s 4ms/step - loss: 0.2155 - accuracy: 0.9375\n",
            "Epoch 26/150\n",
            "4/4 [==============================] - 0s 4ms/step - loss: 0.2116 - accuracy: 0.9375\n",
            "Epoch 27/150\n",
            "4/4 [==============================] - 0s 4ms/step - loss: 0.2098 - accuracy: 0.9196\n",
            "Epoch 28/150\n",
            "4/4 [==============================] - 0s 5ms/step - loss: 0.2074 - accuracy: 0.9286\n",
            "Epoch 29/150\n",
            "4/4 [==============================] - 0s 6ms/step - loss: 0.2051 - accuracy: 0.9286\n",
            "Epoch 30/150\n",
            "4/4 [==============================] - 0s 4ms/step - loss: 0.2009 - accuracy: 0.9286\n",
            "Epoch 31/150\n",
            "4/4 [==============================] - 0s 4ms/step - loss: 0.1989 - accuracy: 0.9286\n",
            "Epoch 32/150\n",
            "4/4 [==============================] - 0s 4ms/step - loss: 0.2090 - accuracy: 0.9018\n",
            "Epoch 33/150\n",
            "4/4 [==============================] - 0s 4ms/step - loss: 0.2041 - accuracy: 0.9196\n",
            "Epoch 34/150\n",
            "4/4 [==============================] - 0s 6ms/step - loss: 0.1976 - accuracy: 0.9286\n",
            "Epoch 35/150\n",
            "4/4 [==============================] - 0s 4ms/step - loss: 0.1894 - accuracy: 0.9286\n",
            "Epoch 36/150\n",
            "4/4 [==============================] - 0s 4ms/step - loss: 0.1945 - accuracy: 0.9196\n",
            "Epoch 37/150\n",
            "4/4 [==============================] - 0s 4ms/step - loss: 0.1972 - accuracy: 0.9196\n",
            "Epoch 38/150\n",
            "4/4 [==============================] - 0s 4ms/step - loss: 0.1891 - accuracy: 0.9375\n",
            "Epoch 39/150\n",
            "4/4 [==============================] - 0s 7ms/step - loss: 0.1888 - accuracy: 0.9286\n",
            "Epoch 40/150\n",
            "4/4 [==============================] - 0s 5ms/step - loss: 0.1841 - accuracy: 0.9375\n",
            "Epoch 41/150\n",
            "4/4 [==============================] - 0s 6ms/step - loss: 0.1827 - accuracy: 0.9196\n",
            "Epoch 42/150\n",
            "4/4 [==============================] - 0s 7ms/step - loss: 0.1834 - accuracy: 0.9286\n",
            "Epoch 43/150\n",
            "4/4 [==============================] - 0s 6ms/step - loss: 0.1790 - accuracy: 0.9196\n",
            "Epoch 44/150\n",
            "4/4 [==============================] - 0s 5ms/step - loss: 0.1774 - accuracy: 0.9375\n",
            "Epoch 45/150\n",
            "4/4 [==============================] - 0s 5ms/step - loss: 0.1817 - accuracy: 0.9554\n",
            "Epoch 46/150\n",
            "4/4 [==============================] - 0s 6ms/step - loss: 0.1740 - accuracy: 0.9286\n",
            "Epoch 47/150\n",
            "4/4 [==============================] - 0s 6ms/step - loss: 0.1754 - accuracy: 0.9286\n",
            "Epoch 48/150\n",
            "4/4 [==============================] - 0s 5ms/step - loss: 0.1738 - accuracy: 0.9196\n",
            "Epoch 49/150\n",
            "4/4 [==============================] - 0s 6ms/step - loss: 0.1747 - accuracy: 0.9375\n",
            "Epoch 50/150\n",
            "4/4 [==============================] - 0s 5ms/step - loss: 0.1732 - accuracy: 0.9375\n",
            "Epoch 51/150\n",
            "4/4 [==============================] - 0s 5ms/step - loss: 0.1681 - accuracy: 0.9286\n",
            "Epoch 52/150\n",
            "4/4 [==============================] - 0s 6ms/step - loss: 0.1671 - accuracy: 0.9286\n",
            "Epoch 53/150\n",
            "4/4 [==============================] - 0s 5ms/step - loss: 0.1664 - accuracy: 0.9375\n",
            "Epoch 54/150\n",
            "4/4 [==============================] - 0s 7ms/step - loss: 0.1648 - accuracy: 0.9375\n",
            "Epoch 55/150\n",
            "4/4 [==============================] - 0s 6ms/step - loss: 0.1630 - accuracy: 0.9375\n",
            "Epoch 56/150\n",
            "4/4 [==============================] - 0s 4ms/step - loss: 0.1619 - accuracy: 0.9375\n",
            "Epoch 57/150\n",
            "4/4 [==============================] - 0s 5ms/step - loss: 0.1616 - accuracy: 0.9375\n",
            "Epoch 58/150\n",
            "4/4 [==============================] - 0s 5ms/step - loss: 0.1599 - accuracy: 0.9375\n",
            "Epoch 59/150\n",
            "4/4 [==============================] - 0s 5ms/step - loss: 0.1582 - accuracy: 0.9375\n",
            "Epoch 60/150\n",
            "4/4 [==============================] - 0s 5ms/step - loss: 0.1574 - accuracy: 0.9375\n",
            "Epoch 61/150\n",
            "4/4 [==============================] - 0s 5ms/step - loss: 0.1567 - accuracy: 0.9375\n",
            "Epoch 62/150\n",
            "4/4 [==============================] - 0s 6ms/step - loss: 0.1549 - accuracy: 0.9375\n",
            "Epoch 63/150\n",
            "4/4 [==============================] - 0s 4ms/step - loss: 0.1570 - accuracy: 0.9375\n",
            "Epoch 64/150\n",
            "4/4 [==============================] - 0s 6ms/step - loss: 0.1532 - accuracy: 0.9375\n",
            "Epoch 65/150\n",
            "4/4 [==============================] - 0s 4ms/step - loss: 0.1514 - accuracy: 0.9375\n",
            "Epoch 66/150\n",
            "4/4 [==============================] - 0s 4ms/step - loss: 0.1507 - accuracy: 0.9375\n",
            "Epoch 67/150\n",
            "4/4 [==============================] - 0s 5ms/step - loss: 0.1496 - accuracy: 0.9375\n",
            "Epoch 68/150\n",
            "4/4 [==============================] - 0s 6ms/step - loss: 0.1475 - accuracy: 0.9464\n",
            "Epoch 69/150\n",
            "4/4 [==============================] - 0s 5ms/step - loss: 0.1488 - accuracy: 0.9375\n",
            "Epoch 70/150\n",
            "4/4 [==============================] - 0s 6ms/step - loss: 0.1456 - accuracy: 0.9375\n",
            "Epoch 71/150\n",
            "4/4 [==============================] - 0s 6ms/step - loss: 0.1511 - accuracy: 0.9286\n",
            "Epoch 72/150\n",
            "4/4 [==============================] - 0s 5ms/step - loss: 0.1443 - accuracy: 0.9375\n",
            "Epoch 73/150\n",
            "4/4 [==============================] - 0s 5ms/step - loss: 0.1465 - accuracy: 0.9554\n",
            "Epoch 74/150\n",
            "4/4 [==============================] - 0s 6ms/step - loss: 0.1472 - accuracy: 0.9464\n",
            "Epoch 75/150\n",
            "4/4 [==============================] - 0s 4ms/step - loss: 0.1437 - accuracy: 0.9464\n",
            "Epoch 76/150\n",
            "4/4 [==============================] - 0s 6ms/step - loss: 0.1434 - accuracy: 0.9464\n",
            "Epoch 77/150\n",
            "4/4 [==============================] - 0s 5ms/step - loss: 0.1406 - accuracy: 0.9464\n",
            "Epoch 78/150\n",
            "4/4 [==============================] - 0s 5ms/step - loss: 0.1417 - accuracy: 0.9375\n",
            "Epoch 79/150\n",
            "4/4 [==============================] - 0s 5ms/step - loss: 0.1391 - accuracy: 0.9375\n",
            "Epoch 80/150\n",
            "4/4 [==============================] - 0s 5ms/step - loss: 0.1412 - accuracy: 0.9554\n",
            "Epoch 81/150\n",
            "4/4 [==============================] - 0s 5ms/step - loss: 0.1405 - accuracy: 0.9554\n",
            "Epoch 82/150\n",
            "4/4 [==============================] - 0s 5ms/step - loss: 0.1364 - accuracy: 0.9375\n",
            "Epoch 83/150\n",
            "4/4 [==============================] - 0s 5ms/step - loss: 0.1381 - accuracy: 0.9464\n",
            "Epoch 84/150\n",
            "4/4 [==============================] - 0s 5ms/step - loss: 0.1353 - accuracy: 0.9464\n",
            "Epoch 85/150\n",
            "4/4 [==============================] - 0s 5ms/step - loss: 0.1406 - accuracy: 0.9643\n",
            "Epoch 86/150\n",
            "4/4 [==============================] - 0s 5ms/step - loss: 0.1377 - accuracy: 0.9464\n",
            "Epoch 87/150\n",
            "4/4 [==============================] - 0s 7ms/step - loss: 0.1321 - accuracy: 0.9464\n",
            "Epoch 88/150\n",
            "4/4 [==============================] - 0s 7ms/step - loss: 0.1314 - accuracy: 0.9464\n",
            "Epoch 89/150\n",
            "4/4 [==============================] - 0s 5ms/step - loss: 0.1319 - accuracy: 0.9464\n",
            "Epoch 90/150\n",
            "4/4 [==============================] - 0s 5ms/step - loss: 0.1328 - accuracy: 0.9464\n",
            "Epoch 91/150\n",
            "4/4 [==============================] - 0s 5ms/step - loss: 0.1287 - accuracy: 0.9464\n",
            "Epoch 92/150\n",
            "4/4 [==============================] - 0s 5ms/step - loss: 0.1273 - accuracy: 0.9554\n",
            "Epoch 93/150\n",
            "4/4 [==============================] - 0s 6ms/step - loss: 0.1278 - accuracy: 0.9464\n",
            "Epoch 94/150\n",
            "4/4 [==============================] - 0s 5ms/step - loss: 0.1260 - accuracy: 0.9464\n",
            "Epoch 95/150\n",
            "4/4 [==============================] - 0s 6ms/step - loss: 0.1251 - accuracy: 0.9464\n",
            "Epoch 96/150\n",
            "4/4 [==============================] - 0s 6ms/step - loss: 0.1245 - accuracy: 0.9464\n",
            "Epoch 97/150\n",
            "4/4 [==============================] - 0s 6ms/step - loss: 0.1242 - accuracy: 0.9464\n",
            "Epoch 98/150\n",
            "4/4 [==============================] - 0s 7ms/step - loss: 0.1234 - accuracy: 0.9554\n",
            "Epoch 99/150\n",
            "4/4 [==============================] - 0s 5ms/step - loss: 0.1248 - accuracy: 0.9643\n",
            "Epoch 100/150\n",
            "4/4 [==============================] - 0s 5ms/step - loss: 0.1217 - accuracy: 0.9643\n",
            "Epoch 101/150\n",
            "4/4 [==============================] - 0s 4ms/step - loss: 0.1215 - accuracy: 0.9464\n",
            "Epoch 102/150\n",
            "4/4 [==============================] - 0s 5ms/step - loss: 0.1214 - accuracy: 0.9464\n",
            "Epoch 103/150\n",
            "4/4 [==============================] - 0s 4ms/step - loss: 0.1216 - accuracy: 0.9554\n",
            "Epoch 104/150\n",
            "4/4 [==============================] - 0s 5ms/step - loss: 0.1203 - accuracy: 0.9643\n",
            "Epoch 105/150\n",
            "4/4 [==============================] - 0s 4ms/step - loss: 0.1209 - accuracy: 0.9464\n",
            "Epoch 106/150\n",
            "4/4 [==============================] - 0s 5ms/step - loss: 0.1211 - accuracy: 0.9464\n",
            "Epoch 107/150\n",
            "4/4 [==============================] - 0s 5ms/step - loss: 0.1178 - accuracy: 0.9464\n",
            "Epoch 108/150\n",
            "4/4 [==============================] - 0s 6ms/step - loss: 0.1192 - accuracy: 0.9732\n",
            "Epoch 109/150\n",
            "4/4 [==============================] - 0s 6ms/step - loss: 0.1179 - accuracy: 0.9732\n",
            "Epoch 110/150\n",
            "4/4 [==============================] - 0s 6ms/step - loss: 0.1167 - accuracy: 0.9464\n",
            "Epoch 111/150\n",
            "4/4 [==============================] - 0s 5ms/step - loss: 0.1156 - accuracy: 0.9464\n",
            "Epoch 112/150\n",
            "4/4 [==============================] - 0s 5ms/step - loss: 0.1176 - accuracy: 0.9732\n",
            "Epoch 113/150\n",
            "4/4 [==============================] - 0s 5ms/step - loss: 0.1155 - accuracy: 0.9554\n",
            "Epoch 114/150\n",
            "4/4 [==============================] - 0s 4ms/step - loss: 0.1133 - accuracy: 0.9643\n",
            "Epoch 115/150\n",
            "4/4 [==============================] - 0s 5ms/step - loss: 0.1159 - accuracy: 0.9464\n",
            "Epoch 116/150\n",
            "4/4 [==============================] - 0s 6ms/step - loss: 0.1122 - accuracy: 0.9464\n",
            "Epoch 117/150\n",
            "4/4 [==============================] - 0s 5ms/step - loss: 0.1102 - accuracy: 0.9732\n",
            "Epoch 118/150\n",
            "4/4 [==============================] - 0s 5ms/step - loss: 0.1188 - accuracy: 0.9643\n",
            "Epoch 119/150\n",
            "4/4 [==============================] - 0s 6ms/step - loss: 0.1116 - accuracy: 0.9732\n",
            "Epoch 120/150\n",
            "4/4 [==============================] - 0s 5ms/step - loss: 0.1116 - accuracy: 0.9464\n",
            "Epoch 121/150\n",
            "4/4 [==============================] - 0s 5ms/step - loss: 0.1134 - accuracy: 0.9375\n",
            "Epoch 122/150\n",
            "4/4 [==============================] - 0s 5ms/step - loss: 0.1133 - accuracy: 0.9464\n",
            "Epoch 123/150\n",
            "4/4 [==============================] - 0s 5ms/step - loss: 0.1077 - accuracy: 0.9732\n",
            "Epoch 124/150\n",
            "4/4 [==============================] - 0s 5ms/step - loss: 0.1078 - accuracy: 0.9643\n",
            "Epoch 125/150\n",
            "4/4 [==============================] - 0s 4ms/step - loss: 0.1074 - accuracy: 0.9732\n",
            "Epoch 126/150\n",
            "4/4 [==============================] - 0s 5ms/step - loss: 0.1094 - accuracy: 0.9732\n",
            "Epoch 127/150\n",
            "4/4 [==============================] - 0s 4ms/step - loss: 0.1054 - accuracy: 0.9643\n",
            "Epoch 128/150\n",
            "4/4 [==============================] - 0s 4ms/step - loss: 0.1100 - accuracy: 0.9464\n",
            "Epoch 129/150\n",
            "4/4 [==============================] - 0s 4ms/step - loss: 0.1033 - accuracy: 0.9643\n",
            "Epoch 130/150\n",
            "4/4 [==============================] - 0s 4ms/step - loss: 0.1117 - accuracy: 0.9732\n",
            "Epoch 131/150\n",
            "4/4 [==============================] - 0s 4ms/step - loss: 0.1076 - accuracy: 0.9732\n",
            "Epoch 132/150\n",
            "4/4 [==============================] - 0s 4ms/step - loss: 0.1115 - accuracy: 0.9375\n",
            "Epoch 133/150\n",
            "4/4 [==============================] - 0s 4ms/step - loss: 0.1031 - accuracy: 0.9643\n",
            "Epoch 134/150\n",
            "4/4 [==============================] - 0s 5ms/step - loss: 0.1095 - accuracy: 0.9643\n",
            "Epoch 135/150\n",
            "4/4 [==============================] - 0s 5ms/step - loss: 0.1043 - accuracy: 0.9732\n",
            "Epoch 136/150\n",
            "4/4 [==============================] - 0s 5ms/step - loss: 0.1043 - accuracy: 0.9554\n",
            "Epoch 137/150\n",
            "4/4 [==============================] - 0s 6ms/step - loss: 0.1038 - accuracy: 0.9464\n",
            "Epoch 138/150\n",
            "4/4 [==============================] - 0s 5ms/step - loss: 0.0993 - accuracy: 0.9732\n",
            "Epoch 139/150\n",
            "4/4 [==============================] - 0s 6ms/step - loss: 0.1087 - accuracy: 0.9643\n",
            "Epoch 140/150\n",
            "4/4 [==============================] - 0s 5ms/step - loss: 0.1024 - accuracy: 0.9732\n",
            "Epoch 141/150\n",
            "4/4 [==============================] - 0s 5ms/step - loss: 0.1045 - accuracy: 0.9464\n",
            "Epoch 142/150\n",
            "4/4 [==============================] - 0s 5ms/step - loss: 0.1016 - accuracy: 0.9464\n",
            "Epoch 143/150\n",
            "4/4 [==============================] - 0s 6ms/step - loss: 0.0998 - accuracy: 0.9732\n",
            "Epoch 144/150\n",
            "4/4 [==============================] - 0s 5ms/step - loss: 0.1024 - accuracy: 0.9732\n",
            "Epoch 145/150\n",
            "4/4 [==============================] - 0s 6ms/step - loss: 0.0998 - accuracy: 0.9643\n",
            "Epoch 146/150\n",
            "4/4 [==============================] - 0s 8ms/step - loss: 0.0991 - accuracy: 0.9643\n",
            "Epoch 147/150\n",
            "4/4 [==============================] - 0s 6ms/step - loss: 0.0991 - accuracy: 0.9732\n",
            "Epoch 148/150\n",
            "4/4 [==============================] - 0s 6ms/step - loss: 0.0956 - accuracy: 0.9643\n",
            "Epoch 149/150\n",
            "4/4 [==============================] - 0s 6ms/step - loss: 0.0952 - accuracy: 0.9732\n",
            "Epoch 150/150\n",
            "4/4 [==============================] - 0s 19ms/step - loss: 0.0964 - accuracy: 0.9732\n"
          ]
        },
        {
          "output_type": "execute_result",
          "data": {
            "text/plain": [
              "<keras.src.callbacks.History at 0x7cbc31579960>"
            ]
          },
          "metadata": {},
          "execution_count": 27
        }
      ]
    },
    {
      "cell_type": "code",
      "source": [
        "newdata = [5.1,3.5,1.4,0.2]\n",
        "y_pred = model.predict([newdata])"
      ],
      "metadata": {
        "colab": {
          "base_uri": "https://localhost:8080/"
        },
        "id": "bBYEwBv6O4z4",
        "outputId": "efdc37b5-e473-4e80-c65d-72d8393cf7d0"
      },
      "execution_count": null,
      "outputs": [
        {
          "output_type": "stream",
          "name": "stdout",
          "text": [
            "1/1 [==============================] - 0s 119ms/step\n"
          ]
        }
      ]
    },
    {
      "cell_type": "code",
      "source": [
        "score = model.evaluate(x_test,y_test)\n",
        "print('Model Evaluation =',score)"
      ],
      "metadata": {
        "colab": {
          "base_uri": "https://localhost:8080/"
        },
        "id": "c4KkS-WvPMBS",
        "outputId": "f56bde86-622d-44bc-b139-de71ae927e39"
      },
      "execution_count": null,
      "outputs": [
        {
          "output_type": "stream",
          "name": "stdout",
          "text": [
            "2/2 [==============================] - 0s 9ms/step - loss: 0.0752 - accuracy: 1.0000\n",
            "Model Evaluation = [0.07519068568944931, 1.0]\n"
          ]
        }
      ]
    },
    {
      "cell_type": "code",
      "source": [],
      "metadata": {
        "id": "D9CzBlnxP1KC"
      },
      "execution_count": null,
      "outputs": []
    }
  ]
}